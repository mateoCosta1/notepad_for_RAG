{
  "cells": [
    {
      "cell_type": "markdown",
      "metadata": {
        "colab_type": "text",
        "id": "view-in-github"
      },
      "source": [
        "<a href=\"https://colab.research.google.com/github/mateoCosta1/notepad_for_RAG/blob/main/gemini/rag-engine/intro_rag_engine.ipynb\" target=\"_parent\"><img src=\"https://colab.research.google.com/assets/colab-badge.svg\" alt=\"Open In Colab\"/></a>"
      ]
    },
    {
      "cell_type": "code",
      "execution_count": null,
      "metadata": {
        "id": "ur8xi4C7S06n"
      },
      "outputs": [],
      "source": [
        "# Copyright 2024 Google LLC\n",
        "#\n",
        "# Licensed under the Apache License, Version 2.0 (the \"License\");\n",
        "# you may not use this file except in compliance with the License.\n",
        "# You may obtain a copy of the License at\n",
        "#\n",
        "#     https://www.apache.org/licenses/LICENSE-2.0\n",
        "#\n",
        "# Unless required by applicable law or agreed to in writing, software\n",
        "# distributed under the License is distributed on an \"AS IS\" BASIS,\n",
        "# WITHOUT WARRANTIES OR CONDITIONS OF ANY KIND, either express or implied.\n",
        "# See the License for the specific language governing permissions and\n",
        "# limitations under the License."
      ]
    },
    {
      "cell_type": "markdown",
      "metadata": {
        "id": "JAPoU8Sm5E6e"
      },
      "source": [
        "# Intro to Building a Scalable and Modular RAG System with RAG Engine in Vertex AI\n",
        "\n",
        "<table align=\"left\">\n",
        "  <td style=\"text-align: center\">\n",
        "    <a href=\"https://colab.research.google.com/github/GoogleCloudPlatform/generative-ai/blob/main/gemini/rag-engine/intro_rag_engine.ipynb\">\n",
        "      <img width=\"32px\" src=\"https://www.gstatic.com/pantheon/images/bigquery/welcome_page/colab-logo.svg\" alt=\"Google Colaboratory logo\"><br> Open in Colab\n",
        "    </a>\n",
        "  </td>\n",
        "  <td style=\"text-align: center\">\n",
        "    <a href=\"https://console.cloud.google.com/vertex-ai/colab/import/https:%2F%2Fraw.githubusercontent.com%2FGoogleCloudPlatform%2Fgenerative-ai%2Fmain%2Fgemini%2Frag-engine%2Fintro_rag_engine.ipynb\">\n",
        "      <img width=\"32px\" src=\"https://lh3.googleusercontent.com/JmcxdQi-qOpctIvWKgPtrzZdJJK-J3sWE1RsfjZNwshCFgE_9fULcNpuXYTilIR2hjwN\" alt=\"Google Cloud Colab Enterprise logo\"><br> Open in Colab Enterprise\n",
        "    </a>\n",
        "  </td>\n",
        "  <td style=\"text-align: center\">\n",
        "    <a href=\"https://console.cloud.google.com/vertex-ai/workbench/deploy-notebook?download_url=https://raw.githubusercontent.com/GoogleCloudPlatform/generative-ai/main/gemini/rag-engine/intro_rag_engine.ipynb\">\n",
        "      <img src=\"https://www.gstatic.com/images/branding/gcpiconscolors/vertexai/v1/32px.svg\" alt=\"Vertex AI logo\"><br> Open in Vertex AI Workbench\n",
        "    </a>\n",
        "  </td>\n",
        "  <td style=\"text-align: center\">\n",
        "    <a href=\"https://github.com/GoogleCloudPlatform/generative-ai/blob/main/gemini/rag-engine/intro_rag_engine.ipynb\">\n",
        "      <img width=\"32px\" src=\"https://www.svgrepo.com/download/217753/github.svg\" alt=\"GitHub logo\"><br> View on GitHub\n",
        "    </a>\n",
        "  </td>\n",
        "</table>\n",
        "\n",
        "<div style=\"clear: both;\"></div>\n",
        "\n",
        "<b>Share to:</b>\n",
        "\n",
        "<a href=\"https://www.linkedin.com/sharing/share-offsite/?url=https%3A//github.com/GoogleCloudPlatform/generative-ai/blob/main/gemini/rag-engine/intro_rag_engine.ipynb\" target=\"_blank\">\n",
        "  <img width=\"20px\" src=\"https://upload.wikimedia.org/wikipedia/commons/8/81/LinkedIn_icon.svg\" alt=\"LinkedIn logo\">\n",
        "</a>\n",
        "\n",
        "<a href=\"https://bsky.app/intent/compose?text=https%3A//github.com/GoogleCloudPlatform/generative-ai/blob/main/gemini/rag-engine/intro_rag_engine.ipynb\" target=\"_blank\">\n",
        "  <img width=\"20px\" src=\"https://upload.wikimedia.org/wikipedia/commons/7/7a/Bluesky_Logo.svg\" alt=\"Bluesky logo\">\n",
        "</a>\n",
        "\n",
        "<a href=\"https://twitter.com/intent/tweet?url=https%3A//github.com/GoogleCloudPlatform/generative-ai/blob/main/gemini/rag-engine/intro_rag_engine.ipynb\" target=\"_blank\">\n",
        "  <img width=\"20px\" src=\"https://upload.wikimedia.org/wikipedia/commons/5/5a/X_icon_2.svg\" alt=\"X logo\">\n",
        "</a>\n",
        "\n",
        "<a href=\"https://reddit.com/submit?url=https%3A//github.com/GoogleCloudPlatform/generative-ai/blob/main/gemini/rag-engine/intro_rag_engine.ipynb\" target=\"_blank\">\n",
        "  <img width=\"20px\" src=\"https://redditinc.com/hubfs/Reddit%20Inc/Brand/Reddit_Logo.png\" alt=\"Reddit logo\">\n",
        "</a>\n",
        "\n",
        "<a href=\"https://www.facebook.com/sharer/sharer.php?u=https%3A//github.com/GoogleCloudPlatform/generative-ai/blob/main/gemini/rag-engine/intro_rag_engine.ipynb\" target=\"_blank\">\n",
        "  <img width=\"20px\" src=\"https://upload.wikimedia.org/wikipedia/commons/5/51/Facebook_f_logo_%282019%29.svg\" alt=\"Facebook logo\">\n",
        "</a>            "
      ]
    },
    {
      "cell_type": "markdown",
      "metadata": {
        "id": "84f0f73a0f76"
      },
      "source": [
        "| | |\n",
        "|-|-|\n",
        "| Author(s) | [Holt Skinner](https://github.com/holtskinner) |"
      ]
    },
    {
      "cell_type": "markdown",
      "metadata": {
        "id": "tvgnzT1CKxrO"
      },
      "source": [
        "## Overview\n",
        "\n",
        "Retrieval Augmented Generation (RAG) improves Large Language Models (LLMs) by allowing them to access and process external information sources during generation. This ensures the model's responses are grounded in factual data and avoids hallucinations.\n",
        "\n",
        "A common problem with LLMs is that they don't understand private knowledge, that\n",
        "is, your organization's data. With RAG Engine, you can enrich the\n",
        "LLM context with additional private information, because the model can reduce\n",
        "hallucinations and answer questions more accurately.\n",
        "\n",
        "By combining additional knowledge sources with the existing knowledge that LLMs\n",
        "have, a better context is provided. The improved context along with the query\n",
        "enhances the quality of the LLM's response.\n",
        "\n",
        "The following concepts are key to understanding Vertex AI RAG Engine. These concepts are listed in the order of the\n",
        "retrieval-augmented generation (RAG) process.\n",
        "\n",
        "1. **Data ingestion**: Intake data from different data sources. For example,\n",
        "  local files, Google Cloud Storage, and Google Drive.\n",
        "\n",
        "1. **Data transformation**: Conversion of the data in preparation for indexing. For example, data is split into chunks.\n",
        "\n",
        "1. **Embedding**: Numerical representations of words or pieces of text. These numbers capture the\n",
        "   semantic meaning and context of the text. Similar or related words or text\n",
        "   tend to have similar embeddings, which means they are closer together in the\n",
        "   high-dimensional vector space.\n",
        "\n",
        "1. **Data indexing**: RAG Engine creates an index called a corpus.\n",
        "   The index structures the knowledge base so it's optimized for searching. For\n",
        "   example, the index is like a detailed table of contents for a massive\n",
        "   reference book.\n",
        "\n",
        "1. **Retrieval**: When a user asks a question or provides a prompt, the retrieval\n",
        "  component in RAG Engine searches through its knowledge\n",
        "  base to find information that is relevant to the query.\n",
        "\n",
        "1. **Generation**: The retrieved information becomes the context added to the\n",
        "  original user query as a guide for the generative AI model to generate\n",
        "  factually grounded and relevant responses.\n",
        "\n",
        "For more information, refer to the public documentation for [Vertex AI RAG Engine](https://cloud.google.com/vertex-ai/generative-ai/docs/rag-overview)."
      ]
    },
    {
      "cell_type": "markdown",
      "metadata": {
        "id": "61RBz8LLbxCR"
      },
      "source": [
        "## Get started"
      ]
    },
    {
      "cell_type": "markdown",
      "metadata": {
        "id": "No17Cw5hgx12"
      },
      "source": [
        "### Install Vertex AI SDK and Google Gen AI SDK\n"
      ]
    },
    {
      "cell_type": "code",
      "execution_count": 2,
      "metadata": {
        "colab": {
          "base_uri": "https://localhost:8080/"
        },
        "id": "tFy3H3aPgx12",
        "outputId": "de3a5c1c-c7b5-48fd-9d26-548e1ad41b20"
      },
      "outputs": [
        {
          "name": "stdout",
          "output_type": "stream",
          "text": [
            "Note: you may need to restart the kernel to use updated packages.\n"
          ]
        }
      ],
      "source": [
        "%pip install --upgrade --quiet google-cloud-aiplatform google-genai"
      ]
    },
    {
      "cell_type": "markdown",
      "metadata": {
        "id": "R5Xep4W9lq-Z"
      },
      "source": [
        "### Restart runtime\n",
        "\n",
        "To use the newly installed packages in this Jupyter runtime, you must restart the runtime. You can do this by running the cell below, which restarts the current kernel.\n",
        "\n",
        "The restart might take a minute or longer. After it's restarted, continue to the next step."
      ]
    },
    {
      "cell_type": "code",
      "execution_count": null,
      "metadata": {
        "colab": {
          "base_uri": "https://localhost:8080/"
        },
        "id": "XRvKdaPDTznN",
        "outputId": "e1f29382-189e-4f7e-83db-f9b745052bf8"
      },
      "outputs": [
        {
          "data": {
            "text/plain": [
              "{'status': 'ok', 'restart': True}"
            ]
          },
          "execution_count": 1,
          "metadata": {},
          "output_type": "execute_result"
        },
        {
          "ename": "",
          "evalue": "",
          "output_type": "error",
          "traceback": [
            "\u001b[1;31mThe Kernel crashed while executing code in the current cell or a previous cell. \n",
            "\u001b[1;31mPlease review the code in the cell(s) to identify a possible cause of the failure. \n",
            "\u001b[1;31mClick <a href='https://aka.ms/vscodeJupyterKernelCrash'>here</a> for more info. \n",
            "\u001b[1;31mView Jupyter <a href='command:jupyter.viewOutput'>log</a> for further details."
          ]
        }
      ],
      "source": [
        "import IPython\n",
        "\n",
        "app = IPython.Application.instance()\n",
        "app.kernel.do_shutdown(True)"
      ]
    },
    {
      "cell_type": "markdown",
      "metadata": {
        "id": "SbmM4z7FOBpM"
      },
      "source": [
        "<div class=\"alert alert-block alert-warning\">\n",
        "<b>⚠️ The kernel is going to restart. Wait until it's finished before continuing to the next step. ⚠️</b>\n",
        "</div>\n"
      ]
    },
    {
      "cell_type": "markdown",
      "metadata": {
        "id": "dmWOrTJ3gx13"
      },
      "source": [
        "### Authenticate your notebook environment (Colab only)\n",
        "\n",
        "If you're running this notebook on Google Colab, run the cell below to authenticate your environment."
      ]
    },
    {
      "cell_type": "code",
      "execution_count": 3,
      "metadata": {
        "id": "NyKGtVQjgx13"
      },
      "outputs": [],
      "source": [
        "import sys\n",
        "\n",
        "if \"google.colab\" in sys.modules:\n",
        "    from google.colab import auth\n",
        "\n",
        "    auth.authenticate_user()"
      ]
    },
    {
      "cell_type": "markdown",
      "metadata": {
        "id": "DF4l8DTdWgPY"
      },
      "source": [
        "### Set Google Cloud project information and initialize Vertex AI SDK\n",
        "\n",
        "To get started using Vertex AI, you must have an existing Google Cloud project and [enable the Vertex AI API](https://console.cloud.google.com/flows/enableapi?apiid=aiplatform.googleapis.com).\n",
        "\n",
        "Learn more about [setting up a project and a development environment](https://cloud.google.com/vertex-ai/docs/start/cloud-environment)."
      ]
    },
    {
      "cell_type": "code",
      "execution_count": 4,
      "metadata": {
        "id": "Nqwi-5ufWp_B"
      },
      "outputs": [],
      "source": [
        "# Use the environment variable if the user doesn't provide Project ID.\n",
        "import os\n",
        "\n",
        "from google import genai\n",
        "import vertexai\n",
        "\n",
        "PROJECT_ID = \"first-presence-453619-j6\"  # @param {type: \"string\", placeholder: \"[your-project-id]\", isTemplate: true}\n",
        "if not PROJECT_ID or PROJECT_ID == \"[your-project-id]\":\n",
        "    PROJECT_ID = str(os.environ.get(\"GOOGLE_CLOUD_PROJECT\"))\n",
        "\n",
        "LOCATION = os.environ.get(\"GOOGLE_CLOUD_REGION\", \"us-central1\")\n",
        "\n",
        "vertexai.init(project=PROJECT_ID, location=LOCATION)\n",
        "client = genai.Client(vertexai=True, project=PROJECT_ID, location=LOCATION)"
      ]
    },
    {
      "cell_type": "markdown",
      "metadata": {
        "id": "5303c05f7aa6"
      },
      "source": [
        "### Import libraries"
      ]
    },
    {
      "cell_type": "code",
      "execution_count": 5,
      "metadata": {
        "id": "6fc324893334"
      },
      "outputs": [],
      "source": [
        "from IPython.display import Markdown, display\n",
        "from google.genai.types import GenerateContentConfig, Retrieval, Tool, VertexRagStore\n",
        "from vertexai import rag"
      ]
    },
    {
      "cell_type": "code",
      "execution_count": null,
      "metadata": {},
      "outputs": [],
      "source": []
    },
    {
      "cell_type": "markdown",
      "metadata": {
        "id": "e43229f3ad4f"
      },
      "source": [
        "### Create a RAG Corpus"
      ]
    },
    {
      "cell_type": "code",
      "execution_count": 9,
      "metadata": {
        "id": "cf93d5f0ce00"
      },
      "outputs": [],
      "source": [
        "# Currently supports Google first-party embedding models\n",
        "EMBEDDING_MODEL = \"publishers/google/models/text-embedding-005\"  # @param {type:\"string\", isTemplate: true}\n",
        "\n",
        "rag_corpus = rag.create_corpus(\n",
        "    display_name=\"my-rag-corpus\",\n",
        "    backend_config=rag.RagVectorDbConfig(\n",
        "        rag_embedding_model_config=rag.RagEmbeddingModelConfig(\n",
        "            vertex_prediction_endpoint=rag.VertexPredictionEndpoint(\n",
        "                publisher_model=EMBEDDING_MODEL\n",
        "            )\n",
        "        )\n",
        "    ),\n",
        ")"
      ]
    },
    {
      "cell_type": "markdown",
      "metadata": {
        "id": "197c585b61b2"
      },
      "source": [
        "### Check the corpus just created"
      ]
    },
    {
      "cell_type": "code",
      "execution_count": 10,
      "metadata": {
        "colab": {
          "base_uri": "https://localhost:8080/"
        },
        "id": "f229b13dc617",
        "outputId": "64486f49-2371-4ee2-f1d0-0e20bd508b8a"
      },
      "outputs": [
        {
          "data": {
            "text/plain": [
              "ListRagCorporaPager<rag_corpora {\n",
              "  name: \"projects/first-presence-453619-j6/locations/us-central1/ragCorpora/4611686018427387904\"\n",
              "  display_name: \"my-rag-corpus\"\n",
              "  create_time {\n",
              "    seconds: 1754526577\n",
              "    nanos: 939614000\n",
              "  }\n",
              "  update_time {\n",
              "    seconds: 1754526577\n",
              "    nanos: 939614000\n",
              "  }\n",
              "  corpus_status {\n",
              "    state: ACTIVE\n",
              "  }\n",
              "  vector_db_config {\n",
              "    rag_managed_db {\n",
              "      knn {\n",
              "      }\n",
              "    }\n",
              "    rag_embedding_model_config {\n",
              "      vertex_prediction_endpoint {\n",
              "        endpoint: \"projects/first-presence-453619-j6/locations/us-central1/publishers/google/models/text-embedding-005\"\n",
              "      }\n",
              "    }\n",
              "  }\n",
              "}\n",
              "rag_corpora {\n",
              "  name: \"projects/first-presence-453619-j6/locations/us-central1/ragCorpora/2305843009213693952\"\n",
              "  display_name: \"my-rag-corpus\"\n",
              "  create_time {\n",
              "    seconds: 1754545106\n",
              "    nanos: 637583000\n",
              "  }\n",
              "  update_time {\n",
              "    seconds: 1754545106\n",
              "    nanos: 637583000\n",
              "  }\n",
              "  corpus_status {\n",
              "    state: ACTIVE\n",
              "  }\n",
              "  vector_db_config {\n",
              "    rag_managed_db {\n",
              "      knn {\n",
              "      }\n",
              "    }\n",
              "    rag_embedding_model_config {\n",
              "      vertex_prediction_endpoint {\n",
              "        endpoint: \"projects/first-presence-453619-j6/locations/us-central1/publishers/google/models/text-embedding-005\"\n",
              "      }\n",
              "    }\n",
              "  }\n",
              "}\n",
              ">"
            ]
          },
          "execution_count": 10,
          "metadata": {},
          "output_type": "execute_result"
        }
      ],
      "source": [
        "rag.list_corpora()"
      ]
    },
    {
      "cell_type": "markdown",
      "metadata": {
        "id": "c52924cc1440"
      },
      "source": [
        "### Upload a local file to the corpus"
      ]
    },
    {
      "cell_type": "code",
      "execution_count": 8,
      "metadata": {
        "colab": {
          "base_uri": "https://localhost:8080/"
        },
        "id": "4976ffe8564f",
        "outputId": "ca975e57-1640-41b9-abaa-7242fcde6f67"
      },
      "outputs": [
        {
          "name": "stdout",
          "output_type": "stream",
          "text": [
            "Writing test.md\n"
          ]
        }
      ],
      "source": [
        "%%writefile test.md\n",
        "\n",
        "Retrieval-Augmented Generation (RAG) is a technique that enhances the capabilities of large language models (LLMs) by allowing them to access and incorporate external data sources when generating responses. Here's a breakdown:\n",
        "\n",
        "**What it is:**\n",
        "\n",
        "* **Combining Retrieval and Generation:**\n",
        "    * RAG combines the strengths of information retrieval systems (like search engines) with the generative power of LLMs.\n",
        "    * It enables LLMs to go beyond their pre-trained data and access up-to-date and specific information.\n",
        "* **How it works:**\n",
        "    * When a user asks a question, the RAG system first retrieves relevant information from external data sources (e.g., databases, documents, web pages).\n",
        "    * This retrieved information is then provided to the LLM as additional context.\n",
        "    * The LLM uses this augmented context to generate a more accurate and informative response.\n",
        "\n",
        "**Why it's helpful:**\n",
        "\n",
        "* **Access to Up-to-Date Information:**\n",
        "    * LLMs are trained on static datasets, so their knowledge can become outdated. RAG allows them to access real-time or frequently updated information.\n",
        "* **Improved Accuracy and Factual Grounding:**\n",
        "    * RAG reduces the risk of LLM \"hallucinations\" (generating false or misleading information) by grounding responses in verified external data.\n",
        "* **Enhanced Contextual Relevance:**\n",
        "    * By providing relevant context, RAG enables LLMs to generate more precise and tailored responses to specific queries.\n",
        "* **Increased Trust and Transparency:**\n",
        "    * RAG can provide source citations, allowing users to verify the information and increasing trust in the LLM's responses.\n",
        "* **Cost Efficiency:**\n",
        "    * Rather than constantly retraining large language models, RAG allows for the introduction of new data in a more cost effective way.\n",
        "\n",
        "In essence, RAG bridges the gap between the vast knowledge of LLMs and the need for accurate, current, and contextually relevant information.\n"
      ]
    },
    {
      "cell_type": "markdown",
      "metadata": {},
      "source": [
        "### Subir Arancel Nacional de Uruguay\n",
        "\n",
        "Ahora vamos a subir el arancel nacional de Uruguay para hacer consultas de clasificación arancelaria."
      ]
    },
    {
      "cell_type": "code",
      "execution_count": 16,
      "metadata": {
        "id": "529390917c29"
      },
      "outputs": [],
      "source": [
        "rag_file = rag.upload_file(\n",
        "    corpus_name=rag_corpus.name,\n",
        "    path=\"../../Arancel Nacional_Abril 2024.pdf\",  # Usar el archivo PDF directamente\n",
        "    display_name=\"Arancel Nacional Uruguay Abril 2024\",\n",
        "    description=\"Arancel Nacional de Uruguay con códigos NCM, descripciones y tarifas actualizadas a Abril 2024 (formato PDF)\",\n",
        ")"
      ]
    },
    {
      "cell_type": "markdown",
      "metadata": {
        "id": "5269a0c2786d"
      },
      "source": [
        "### Import files from Google Cloud Storage\n",
        "\n",
        "Remember to grant \"Viewer\" access to the \"Vertex RAG Data Service Agent\" (with the format of `service-{project_number}@gcp-sa-vertex-rag.iam.gserviceaccount.com`) for your Google Cloud Storage bucket.\n",
        "\n",
        "For this example, we'll use a public GCS bucket containing earning reports from Alphabet."
      ]
    },
    {
      "cell_type": "code",
      "execution_count": null,
      "metadata": {
        "id": "5910ae450f69"
      },
      "outputs": [],
      "source": [
        "# Configuración optimizada para el arancel uruguayo en formato PDF\n",
        "# INPUT_GCS_BUCKET = (\n",
        "#     \"gs://cloud-samples-data/gen-app-builder/search/alphabet-investor-pdfs/\"\n",
        "# )\n",
        "\n",
        "# Para el arancel uruguayo en PDF, usamos configuración específica para documentos estructurados\n",
        "response = rag.import_files(\n",
        "    corpus_name=rag_corpus.name,\n",
        "    paths=[\"../../Arancel Nacional_Abril 2024.pdf\"],  # Usar el archivo PDF\n",
        "    # Configuración optimizada para documentos PDF con tablas arancelarias\n",
        "    transformation_config=rag.TransformationConfig(\n",
        "        chunking_config=rag.ChunkingConfig(\n",
        "            chunk_size=1000,  # Tamaño apropiado para entradas del arancel en PDF\n",
        "            chunk_overlap=150  # Overlap mayor para mantener contexto entre códigos relacionados\n",
        "        )\n",
        "    ),\n",
        "    max_embedding_requests_per_min=900,  # Optional\n",
        ")"
      ]
    },
    {
      "cell_type": "markdown",
      "metadata": {
        "id": "60a84095746d"
      },
      "source": [
        "### Import files from Google Drive\n",
        "\n",
        "Eligible paths can be formatted as:\n",
        "\n",
        "- `https://drive.google.com/drive/folders/{folder_id}`\n",
        "- `https://drive.google.com/file/d/{file_id}`.\n",
        "\n",
        "Remember to grant \"Viewer\" access to the \"Vertex RAG Data Service Agent\" (with the format of `service-{project_number}@gcp-sa-vertex-rag.iam.gserviceaccount.com`) for your Drive folder/files.\n"
      ]
    },
    {
      "cell_type": "code",
      "execution_count": 19,
      "metadata": {
        "id": "0a90c125874c"
      },
      "outputs": [],
      "source": [
        "response = rag.import_files(\n",
        "    corpus_name=rag_corpus.name,\n",
        "    paths=[\"https://drive.google.com/file/d/1sLFbb_ncJ5yYvBYocU7kDxZAF1X3zG8H\"],\n",
        "    # Optional\n",
        "    transformation_config=rag.TransformationConfig(\n",
        "        chunking_config=rag.ChunkingConfig(chunk_size=512, chunk_overlap=50)\n",
        "    ),\n",
        ")"
      ]
    },
    {
      "cell_type": "markdown",
      "metadata": {
        "id": "f700b3e23121"
      },
      "source": [
        "### Optional: Perform direct context retrieval"
      ]
    },
    {
      "cell_type": "code",
      "execution_count": 15,
      "metadata": {
        "colab": {
          "base_uri": "https://localhost:8080/"
        },
        "id": "4669c5cdbb5a",
        "outputId": "c4d51342-b384-4b4e-f88f-09df99208f00"
      },
      "outputs": [
        {
          "name": "stdout",
          "output_type": "stream",
          "text": [
            "contexts {\n",
            "  contexts {\n",
            "    source_uri: \"gs://cloud-samples-data/gen-app-builder/search/alphabet-investor-pdfs/2021_alphabet_annual_report.pdf\"\n",
            "    text: \"Information\\r\\n1WTYGDUKVGKUNQECVGFCVYYY CDE Z[\\\\ CPFQWTKPXGUVQTTGNCVKQPUYGDUKVGKUNQECVGFCVYYY CDE Z[\\\\ KPXGUVQT 1WT#PPWCN4GRQTVU\\r\\nQP(QTO   - 3WCTVGTN[4GRQTVUQP(QTO   3 %WTTGPV4GRQTVUQP(QTO  - CPFQWT2TQZ[5VCVGOGPVU CPFCP[COGPFOGPVUVQ\\r\\nVJGUGTGRQTVU CTGCXCKNCDNGVJTQWIJQWTKPXGUVQTTGNCVKQPUYGDUKVG HTGGQHEJCTIG CHVGTYGƒNGVJGOYKVJVJG5\\'% 9GCNUQRTQXKFGC\\r\\nNKPMVQVJGUGEVKQPQHVJG5\\'%ŦUYGDUKVGCVYYY UGE IQXVJCVJCUCNNQHVJGTGRQTVUVJCVYGƒNGQTHWTPKUJYKVJVJG5\\'%   J G K T E Q O R N K C P E G Y K V J ) Q Q I N G Ŧ U 5 W R R N K G T % Q F G Q H % Q P F W E V   9 G E Q P V K P W C N N [ O C M G K O R T Q X G O G P V U V Q R T Q O Q V G C \\r \\n T G U R G E V H W N C P F R Q U K V K X G Y Q T M K P I G P X K T Q P O G P V H Q T G X G T [ Q P G ţ G O R N Q [ G G U   X G P F Q T U   C P F V G O R Q T C T [ U V C H H C N K M G   \\r \\n G o v e r n m e n t \"\n",
            "    source_display_name: \"2021_alphabet_annual_report.pdf\"\n",
            "    score: 0.45960712815409066\n",
            "    chunk {\n",
            "      text: \"Information\\r\\n1WTYGDUKVGKUNQECVGFCVYYY\\020CDE\\020Z[\\\\\\016CPFQWTKPXGUVQTTGNCVKQPUYGDUKVGKUNQECVGFCVYYY\\020CDE\\020Z[\\\\\\021KPXGUVQT\\0201WT#PPWCN4GRQTVU\\r\\nQP(QTO\\023\\022\\017-\\0163WCTVGTN[4GRQTVUQP(QTO\\023\\022\\0173\\016%WTTGPV4GRQTVUQP(QTO\\032\\017-\\016CPFQWT2TQZ[5VCVGOGPVU\\016CPFCP[COGPFOGPVUVQ\\r\\nVJGUGTGRQTVU\\016CTGCXCKNCDNGVJTQWIJQWTKPXGUVQTTGNCVKQPUYGDUKVG\\016HTGGQHEJCTIG\\016CHVGTYGƒNGVJGOYKVJVJG5\\'%\\0209GCNUQRTQXKFGC\\r\\nNKPMVQVJGUGEVKQPQHVJG5\\'%ŦUYGDUKVGCVYYY\\020UGE\\020IQXVJCVJCUCNNQHVJGTGRQTVUVJCVYGƒNGQTHWTPKUJYKVJVJG5\\'%\\020\\000\\000J\\000G\\000K\\000T\\000E\\000Q\\000O\\000R\\000N\\000K\\000C\\000P\\000E\\000G\\000Y\\000K\\000V\\000J\\000)\\000Q\\000Q\\000I\\000N\\000G\\000Ŧ\\000U\\0005\\000W\\000R\\000R\\000N\\000K\\000G\\000T\\000%\\000Q\\000F\\000G\\000Q\\000H\\000%\\000Q\\000P\\000F\\000W\\000E\\000V\\000\\020\\0009\\000G\\000E\\000Q\\000P\\000V\\000K\\000P\\000W\\000C\\000N\\000N\\000[\\000O\\000C\\000M\\000G\\000K\\000O\\000R\\000T\\000Q\\000X\\000G\\000O\\000G\\000P\\000V\\000U\\000V\\000Q\\000R\\000T\\000Q\\000O\\000Q\\000V\\000G\\000C\\000\\r\\000\\n\\000T\\000G\\000U\\000R\\000G\\000E\\000V\\000H\\000W\\000N\\000C\\000P\\000F\\000R\\000Q\\000U\\000K\\000V\\000K\\000X\\000G\\000Y\\000Q\\000T\\000M\\000K\\000P\\000I\\000G\\000P\\000X\\000K\\000T\\000Q\\000P\\000O\\000G\\000P\\000V\\000H\\000Q\\000T\\000G\\000X\\000G\\000T\\000[\\000Q\\000P\\000G\\000ţ\\000G\\000O\\000R\\000N\\000Q\\000[\\000G\\000G\\000U\\000\\016\\000X\\000G\\000P\\000F\\000Q\\000T\\000U\\000\\016\\000C\\000P\\000F\\000V\\000G\\000O\\000R\\000Q\\000T\\000C\\000T\\000[\\000U\\000V\\000C\\000H\\000H\\000C\\000N\\000K\\000M\\000G\\000\\020\\000\\r\\000\\n\\000G\\000o\\000v\\000e\\000r\\000n\\000m\\000e\\000n\\000t\\000\"\n",
            "      page_span {\n",
            "        first_page: 43\n",
            "        last_page: 43\n",
            "      }\n",
            "    }\n",
            "  }\n",
            "  contexts {\n",
            "    source_uri: \"gs://cloud-samples-data/gen-app-builder/search/alphabet-investor-pdfs/2021_alphabet_annual_report.pdf\"\n",
            "    text: \"TVCTGQWTRTQRGTV[ 6JKUTGRQTVEQPVCKPUCFFKVKQPCNVTCFG\\r\\nPCOGUCPFVTCFGOCTMUQHQVJGTEQORCPKGU 9GFQPQVKPVGPFQWT\\r\\nWUGQTFKURNC[QHQVJGTEQORCPKGUŦVTCFGPCOGUQTVTCFGOCTMUVQ\\r\\nKORN[CPGPFQTUGOGPVQTURQPUQTUJKRQHWUD[UWEJEQORCPKGU \\r\\nQTCP[TGNCVKQPUJKRYKVJCP[QHVJGUGEQORCPKGU  　㜴〰㔴〰㜴〰昴〰㐴〰㜴〰㐵〰㌰〰㔱〰㌱〰攰〰㌰〰㐱〰㈱〰㐱〰㌱〰〱吾੪呅\\nT G R Q T V   \\r \\n •   Y J G #.2*#$\\'6+0%  ● ANNUAL REPORT  \\r\\nPART I\\r\\n+6\\'/Ǿ ǾǾ$75+0\\'55\\r\\n9GEQPVKPWGVQNQQMVQVJGHWVWTGCPFCTGOCMKPINQPI VGTOKPXGUVOGPVUVJCVYGGZRGEVVQITQYTGXGPWGUDG[QPFCFXGTVKUKPI KPENWFKPI\\r\\nTGXGPWGUHTQO)QQING2NC[ JCTFYCTG CPF;QW6WDGPQP CFXGTVKUKPI \\r\\nz Google PlayIGPGTCVGUTGXGPWGUHTQOUCNGUQHCRRUCPFKP CRRRWTEJCUGUCPFFKIKVCNEQPVGPVUQNFKPVJG)QQING2NC[UVQTG \\r\\nz HardwareIGPGTCVGUTGXGPWGUHTQOUCNGUQH(KVDKVYGCTCDNGFGXKEGU )QQING0GUVJQOGRTQFWEVU 2KZGNRJQPGU CPFQVJGTFGXKEGU \\r\\nz YouTube non-advertisingIGPGTCVGUTGXGPWGUHTQO;QW6WDG2TGOKWOCPF;QW6WDG68UWDUETKRVKQPUCPFQVJGTUGTXKEGU \\r\\nGoogle\"\n",
            "    source_display_name: \"2021_alphabet_annual_report.pdf\"\n",
            "    score: 0.46171811089046932\n",
            "    chunk {\n",
            "      text: \"TVCTGQWTRTQRGTV[\\0206JKUTGRQTVEQPVCKPUCFFKVKQPCNVTCFG\\r\\nPCOGUCPFVTCFGOCTMUQHQVJGTEQORCPKGU\\0209GFQPQVKPVGPFQWT\\r\\nWUGQTFKURNC[QHQVJGTEQORCPKGUŦVTCFGPCOGUQTVTCFGOCTMUVQ\\r\\nKORN[CPGPFQTUGOGPVQTURQPUQTUJKRQHWUD[UWEJEQORCPKGU\\016\\r\\nQTCP[TGNCVKQPUJKRYKVJCP[QHVJGUGEQORCPKGU\\020\\000　㜴〰㔴〰㜴〰昴〰㐴〰㜴〰㐵〰㌰〰㔱〰㌱〰攰〰㌰〰㐱〰㈱〰㐱〰㌱〰〱吾੪呅\\nT\\000G\\000R\\000Q\\000T\\000V\\000\\020\\000\\r\\000\\n\\000•\\000 \\000Y\\000J\\000G\\000#.2*#$\\'6+0%\\020 ● ANNUAL REPORT \\025\\r\\nPART I\\r\\n+6\\'/Ǿ\\023ǾǾ$75+0\\'55\\r\\n9GEQPVKPWGVQNQQMVQVJGHWVWTGCPFCTGOCMKPINQPI\\017VGTOKPXGUVOGPVUVJCVYGGZRGEVVQITQYTGXGPWGUDG[QPFCFXGTVKUKPI\\016KPENWFKPI\\r\\nTGXGPWGUHTQO)QQING2NC[\\016JCTFYCTG\\016CPF;QW6WDGPQP\\017CFXGTVKUKPI\\020\\r\\nz Google PlayIGPGTCVGUTGXGPWGUHTQOUCNGUQHCRRUCPFKP\\017CRRRWTEJCUGUCPFFKIKVCNEQPVGPVUQNFKPVJG)QQING2NC[UVQTG\\020\\r\\nz HardwareIGPGTCVGUTGXGPWGUHTQOUCNGUQH(KVDKVYGCTCDNGFGXKEGU\\016)QQING0GUVJQOGRTQFWEVU\\0162KZGNRJQPGU\\016CPFQVJGTFGXKEGU\\020\\r\\nz YouTube non-advertisingIGPGTCVGUTGXGPWGUHTQO;QW6WDG2TGOKWOCPF;QW6WDG68UWDUETKRVKQPUCPFQVJGTUGTXKEGU\\020\\r\\nGoogle\"\n",
            "      page_span {\n",
            "        first_page: 40\n",
            "        last_page: 41\n",
            "      }\n",
            "    }\n",
            "  }\n",
            "  contexts {\n",
            "    source_uri: \"gs://cloud-samples-data/gen-app-builder/search/alphabet-investor-pdfs/2021_alphabet_annual_report.pdf\"\n",
            "    text: \"9GJCXGDWKNVYQTNF ENCUUCFXGTVKUKPIVGEJPQNQIKGUHQTCFXGTVKUGTU CIGPEKGU CPFRWDNKUJGTUVQRQYGTVJGKTFKIKVCNOCTMGVKPIDWUKPGUUGU \\r\\n1WTCFXGTVKUKPIUQNWVKQPUJGNROKNNKQPUQHEQORCPKGUITQYVJGKTDWUKPGUUGUVJTQWIJQWTYKFGTCPIGQHRTQFWEVUCETQUUFGXKEGUCPF\\r\\nHQTOCVU CPFYGCKOVQGPUWTGRQUKVKXGWUGTGZRGTKGPEGUD[UGTXKPIVJGTKIJVCFUCVVJGTKIJVVKOGCPFD[DWKNFKPIFGGRRCTVPGTUJKRU\\r\\nYKVJDTCPFUCPFCIGPEKGU \\r\\n)QQING5GTXKEGUIGPGTCVGUTGXGPWGURTKOCTKN[D[FGNKXGTKPIDQVJRGTHQTOCPEGCPFDTCPFCFXGTVKUKPIVJCVCRRGCTUQP)QQING5GCTEJ\\r\\n QVJGTRTQRGTVKGU ;QW6WDGCPF)QQING0GVYQTMRCTVPGTUŦRTQRGTVKGU\\nũ)QQING0GVYQTMRTQRGTVKGUŪ  9GEQPVKPWGVQKPXGUVKPDQVJ\\r\\nRGTHQTOCPEGCPFDTCPFCFXGTVKUKPICPFUGGMVQKORTQXGVJGOGCUWTCDKNKV[QHCFXGTVKUKPIUQCFXGTVKUGTUWPFGTUVCPFVJGGHHGEVKXGPGUU\\r\\nQHVJGKTECORCKIPU \\r\\nz Performance advertisingETGCVGUCPFFGNKXGTUTGNGXCPVCFUVJCVWUGTUYKNNENKEMQP NGCFKPIVQFKTGEVGPICIGOGPVYKVJCFXGTVKUGTU \\r\\n2GTHQTOCPEGCFXGTVKUKPINGVUQWTCFXGTVKUGTUEQPPGEVYKVJWUGTUYJKNGFTKXKPIOGCUWTCDNGTGUWNVU 1WTCFUVQQNUCNNQYRGTHQTOCPEG\\r\\nCFXGTVKUGTUVQETGCVGUKORNGVGZV DCUGFCFU \\r\\nz $TCPFCFXGTVKUKPIJGNRUGPJCPEGWUGTUŦCYCTGPGUUQHCPFCHƒPKV[HQTCFXGTVKUGTUŦRTQFWEVUCPFUGTXKEGU VJTQWIJXKFGQU VGZV \\r\\nKOCIGU CPFQVJGTKPVGTCEVKXGCFUVJCVTWPCETQUUXCTKQWUFGXKEGU 9GJGNRDTCPFCFXGTVKUGTUFGNKXGTFKIKVCNXKFGQUCPFQVJGTV[RGU\\r\\nQHCFUVQURGEKƒECWFKGPEGUHQTVJGKTDTCPF DWKNFKPIOCTMGVKPIECORCKIPU \\r\\n9GJCXGCNNQECVGFUWDUVCPVKCNTGUQWTEGUVQUVQRRKPIDCFCFXGTVKUKPIRTCEVKEGUCPFRTQVGEVKPIWUGTU\"\n",
            "    source_display_name: \"2021_alphabet_annual_report.pdf\"\n",
            "    score: 0.4648531146499143\n",
            "    chunk {\n",
            "      text: \"9GJCXGDWKNVYQTNF\\017ENCUUCFXGTVKUKPIVGEJPQNQIKGUHQTCFXGTVKUGTU\\016CIGPEKGU\\016CPFRWDNKUJGTUVQRQYGTVJGKTFKIKVCNOCTMGVKPIDWUKPGUUGU\\020\\r\\n1WTCFXGTVKUKPIUQNWVKQPUJGNROKNNKQPUQHEQORCPKGUITQYVJGKTDWUKPGUUGUVJTQWIJQWTYKFGTCPIGQHRTQFWEVUCETQUUFGXKEGUCPF\\r\\nHQTOCVU\\016CPFYGCKOVQGPUWTGRQUKVKXGWUGTGZRGTKGPEGUD[UGTXKPIVJGTKIJVCFUCVVJGTKIJVVKOGCPFD[DWKNFKPIFGGRRCTVPGTUJKRU\\r\\nYKVJDTCPFUCPFCIGPEKGU\\020\\r\\n)QQING5GTXKEGUIGPGTCVGUTGXGPWGURTKOCTKN[D[FGNKXGTKPIDQVJRGTHQTOCPEGCPFDTCPFCFXGTVKUKPIVJCVCRRGCTUQP)QQING5GCTEJ\\r\\n\\010QVJGTRTQRGTVKGU\\016;QW6WDGCPF)QQING0GVYQTMRCTVPGTUŦRTQRGTVKGU\\nũ)QQING0GVYQTMRTQRGTVKGUŪ\\013\\0209GEQPVKPWGVQKPXGUVKPDQVJ\\r\\nRGTHQTOCPEGCPFDTCPFCFXGTVKUKPICPFUGGMVQKORTQXGVJGOGCUWTCDKNKV[QHCFXGTVKUKPIUQCFXGTVKUGTUWPFGTUVCPFVJGGHHGEVKXGPGUU\\r\\nQHVJGKTECORCKIPU\\020\\r\\nz Performance advertisingETGCVGUCPFFGNKXGTUTGNGXCPVCFUVJCVWUGTUYKNNENKEMQP\\016NGCFKPIVQFKTGEVGPICIGOGPVYKVJCFXGTVKUGTU\\020\\r\\n2GTHQTOCPEGCFXGTVKUKPINGVUQWTCFXGTVKUGTUEQPPGEVYKVJWUGTUYJKNGFTKXKPIOGCUWTCDNGTGUWNVU\\0201WTCFUVQQNUCNNQYRGTHQTOCPEG\\r\\nCFXGTVKUGTUVQETGCVGUKORNGVGZV\\017DCUGFCFU\\020\\r\\nz $TCPFCFXGTVKUKPIJGNRUGPJCPEGWUGTUŦCYCTGPGUUQHCPFCHƒPKV[HQTCFXGTVKUGTUŦRTQFWEVUCPFUGTXKEGU\\016VJTQWIJXKFGQU\\016VGZV\\016\\r\\nKOCIGU\\016CPFQVJGTKPVGTCEVKXGCFUVJCVTWPCETQUUXCTKQWUFGXKEGU\\0209GJGNRDTCPFCFXGTVKUGTUFGNKXGTFKIKVCNXKFGQUCPFQVJGTV[RGU\\r\\nQHCFUVQURGEKƒECWFKGPEGUHQTVJGKTDTCPF\\017DWKNFKPIOCTMGVKPIECORCKIPU\\020\\r\\n9GJCXGCNNQECVGFUWDUVCPVKCNTGUQWTEGUVQUVQRRKPIDCFCFXGTVKUKPIRTCEVKEGUCPFRTQVGEVKPIWUGTU\"\n",
            "      page_span {\n",
            "        first_page: 40\n",
            "        last_page: 40\n",
            "      }\n",
            "    }\n",
            "  }\n",
            "  contexts {\n",
            "    source_uri: \"gs://cloud-samples-data/gen-app-builder/search/alphabet-investor-pdfs/2021_alphabet_annual_report.pdf\"\n",
            "    text: \"If we do not continue to innovate and provide products and services that are useful to users, \\r\\ncustomers, and other partners, we may not remain competitive, which could harm our business and operating results. \\r\\n1WTDWUKPGUUGPXKTQPOGPVKUTCRKFN[GXQNXKPICPFKPVGPUGN[EQORGVKVKXG 1WTDWUKPGUUGUHCEGEJCPIKPIVGEJPQNQIKGU UJKHVKPIWUGT\\r\\nPGGFU CPFHTGSWGPVKPVTQFWEVKQPUQHTKXCNRTQFWEVUCPFUGTXKEGU 6QEQORGVGUWEEGUUHWNN[ YGOWUVCEEWTCVGN[CPVKEKRCVGVGEJPQNQI[\\r\\nFGXGNQROGPVUCPFFGNKXGTKPPQXCVKXG TGNGXCPVCPFWUGHWNRTQFWEVU UGTXKEGU CPFVGEJPQNQIKGUKPCVKOGN[OCPPGT #UQWTDWUKPGUUGU\\r\\nGXQNXG VJGEQORGVKVKXGRTGUUWTGVQKPPQXCVGYKNNGPEQORCUUCYKFGTTCPIGQHRTQFWEVUCPFUGTXKEGU 9GOWUVEQPVKPWGVQKPXGUVUKIPKƒECPV\\r\\nTGUQWTEGUKP4 & KPENWFKPIVJTQWIJCESWKUKVKQPU KPQTFGTVQGPJCPEGQWTVGEJPQNQI[CPFPGYCPFGZKUVKPIRTQFWEVUCPFUGTXKEGU \\r\\n9GJCXGOCP[EQORGVKVQTUKPFKHHGTGPVKPFWUVTKGU 1WTEWTTGPVCPFRQVGPVKCNFQOGUVKECPFKPVGTPCVKQPCNEQORGVKVQTUTCPIGHTQO\\r\\nNCTIGCPFGUVCDNKUJGFEQORCPKGUVQGOGTIKPIUVCTV WRU 5QOGEQORGVKVQTUJCXGNQPIGTQRGTCVKPIJKUVQTKGUCPFYGNNGUVCDNKUJGF\\r\\nTGNCVKQPUJKRUKPXCTKQWUUGEVQTU 6JG[ECPWUGVJGKTGZRGTKGPEGCPFTGUQWTEGUKPYC[UVJCVEQWNFCHHGEVQWTEQORGVKVKXGRQUKVKQP \\r\\nKPENWFKPID[OCMKPICESWKUKVKQPU EQPVKPW\"\n",
            "    source_display_name: \"2021_alphabet_annual_report.pdf\"\n",
            "    score: 0.46511334142725957\n",
            "    chunk {\n",
            "      text: \"If we do not continue to innovate and provide products and services that are useful to users, \\r\\ncustomers, and other partners, we may not remain competitive, which could harm our business and operating results. \\r\\n1WTDWUKPGUUGPXKTQPOGPVKUTCRKFN[GXQNXKPICPFKPVGPUGN[EQORGVKVKXG\\0201WTDWUKPGUUGUHCEGEJCPIKPIVGEJPQNQIKGU\\016UJKHVKPIWUGT\\r\\nPGGFU\\016CPFHTGSWGPVKPVTQFWEVKQPUQHTKXCNRTQFWEVUCPFUGTXKEGU\\0206QEQORGVGUWEEGUUHWNN[\\016YGOWUVCEEWTCVGN[CPVKEKRCVGVGEJPQNQI[\\r\\nFGXGNQROGPVUCPFFGNKXGTKPPQXCVKXG\\016TGNGXCPVCPFWUGHWNRTQFWEVU\\016UGTXKEGU\\016CPFVGEJPQNQIKGUKPCVKOGN[OCPPGT\\020#UQWTDWUKPGUUGU\\r\\nGXQNXG\\016VJGEQORGVKVKXGRTGUUWTGVQKPPQXCVGYKNNGPEQORCUUCYKFGTTCPIGQHRTQFWEVUCPFUGTXKEGU\\0209GOWUVEQPVKPWGVQKPXGUVUKIPKƒECPV\\r\\nTGUQWTEGUKP4\\010&\\016KPENWFKPIVJTQWIJCESWKUKVKQPU\\016KPQTFGTVQGPJCPEGQWTVGEJPQNQI[CPFPGYCPFGZKUVKPIRTQFWEVUCPFUGTXKEGU\\020\\r\\n9GJCXGOCP[EQORGVKVQTUKPFKHHGTGPVKPFWUVTKGU\\0201WTEWTTGPVCPFRQVGPVKCNFQOGUVKECPFKPVGTPCVKQPCNEQORGVKVQTUTCPIGHTQO\\r\\nNCTIGCPFGUVCDNKUJGFEQORCPKGUVQGOGTIKPIUVCTV\\017WRU\\0205QOGEQORGVKVQTUJCXGNQPIGTQRGTCVKPIJKUVQTKGUCPFYGNNGUVCDNKUJGF\\r\\nTGNCVKQPUJKRUKPXCTKQWUUGEVQTU\\0206JG[ECPWUGVJGKTGZRGTKGPEGCPFTGUQWTEGUKPYC[UVJCVEQWNFCHHGEVQWTEQORGVKVKXGRQUKVKQP\\016\\r\\nKPENWFKPID[OCMKPICESWKUKVKQPU\\016EQPVKPW\"\n",
            "      page_span {\n",
            "        first_page: 44\n",
            "        last_page: 44\n",
            "      }\n",
            "    }\n",
            "  }\n",
            "  contexts {\n",
            "    source_uri: \"gs://cloud-samples-data/gen-app-builder/search/alphabet-investor-pdfs/2021_alphabet_annual_report.pdf\"\n",
            "    text: \"GEVHWNCPFRQUKVKXGYQTMKPIGPXKTQPOGPVHQTGXGT[QPGţGORNQ[GGU XGPFQTU CPFVGORQTCT[UVCHHCNKMG \\r\\nGovernment Regulation\\r\\n9GCTGUWDLGEVVQPWOGTQWU7PKVGF5VCVGU\\n7 5  HGFGTCN UVCVG CPFHQTGKIPNCYUCPFTGIWNCVKQPUEQXGTKPICYKFGXCTKGV[QHUWDLGEV\\r\\nOCVVGTU .KMGQVJGTEQORCPKGUKPVJGVGEJPQNQI[KPFWUVT[ YGHCEGJGKIJVGPGFUETWVKP[HTQODQVJ7 5 CPFHQTGKIPIQXGTPOGPVUYKVJ\\r\\nTGURGEVVQQWTEQORNKCPEGYKVJNCYUCPFTGIWNCVKQPU /CP[QHVJGUGNCYUCPFTGIWNCVKQPUCTGGXQNXKPICPFVJGKTCRRNKECDKNKV[CPF\\r\\nUEQRG CUKPVGTRTGVGFD[VJGEQWTVU TGOCKPWPEGTVCKP \\r\\n1WTEQORNKCPEGYKVJVJGUGNCYUCPFTGIWNCVKQPUOC[DGQPGTQWUCPFEQWNF KPFKXKFWCNN[QTKPVJGCIITGICVG KPETGCUGQWTEQUVQH\\r\\nFQKPIDWUKPGUU OCMGQWTRTQFWEVUCPFUGTXKEGUNGUUWUGHWN NKOKVQWTCDKNKV[VQRWTUWGEGTVCKPDWUKPGUUOQFGNU ECWUGWUVQEJCPIG\\r\\nQWTDWUKPGUURTCEVKEGU CHHGEVQWTEQORGVKVKXGRQUKVKQPTGNCVKXGVQQWTRGGTU CPF QTQVJGTYKUGJCXGCPCFXGTUGGHHGEVQPQWTDWUKPGUU \\r\\nTGRWVCVKQP ƒPCPEKCNEQPFKVKQP CPFQRGTCVKPITGUWNVU \\r\\n(QTCFFKVKQPCNKPHQTOCVKQPCDQWVIQXGTPOGPVTGIWNCVKQPCRRNKECDNGVQQWTDWUKPGUU UGG4KUM(CEVQTUKP+VGO # 6TGPFUKP1WT$WUKPGUU\\r\\nCPF(KPCPEKCN\\'HHGEVKP2CTV++ +VGO  CPF.GICN/CVVGTUKP0QVG  QHVJG0QVGUVQ%QPUQNKFCVGF(KPCPEKCN5VCVGOGPVUKPENWFGFKP\\r\\n2CTV++ +VGO QHVJKU#PPWCN4GRQTVQP(QTO   - \\r\\nIntellectual\"\n",
            "    source_display_name: \"2021_alphabet_annual_report.pdf\"\n",
            "    score: 0.46594094579989709\n",
            "    chunk {\n",
            "      text: \"GEVHWNCPFRQUKVKXGYQTMKPIGPXKTQPOGPVHQTGXGT[QPGţGORNQ[GGU\\016XGPFQTU\\016CPFVGORQTCT[UVCHHCNKMG\\020\\r\\nGovernment Regulation\\r\\n9GCTGUWDLGEVVQPWOGTQWU7PKVGF5VCVGU\\n7\\0205\\020\\013HGFGTCN\\016UVCVG\\016CPFHQTGKIPNCYUCPFTGIWNCVKQPUEQXGTKPICYKFGXCTKGV[QHUWDLGEV\\r\\nOCVVGTU\\020.KMGQVJGTEQORCPKGUKPVJGVGEJPQNQI[KPFWUVT[\\016YGHCEGJGKIJVGPGFUETWVKP[HTQODQVJ7\\0205\\020CPFHQTGKIPIQXGTPOGPVUYKVJ\\r\\nTGURGEVVQQWTEQORNKCPEGYKVJNCYUCPFTGIWNCVKQPU\\020/CP[QHVJGUGNCYUCPFTGIWNCVKQPUCTGGXQNXKPICPFVJGKTCRRNKECDKNKV[CPF\\r\\nUEQRG\\016CUKPVGTRTGVGFD[VJGEQWTVU\\016TGOCKPWPEGTVCKP\\020\\r\\n1WTEQORNKCPEGYKVJVJGUGNCYUCPFTGIWNCVKQPUOC[DGQPGTQWUCPFEQWNF\\016KPFKXKFWCNN[QTKPVJGCIITGICVG\\016KPETGCUGQWTEQUVQH\\r\\nFQKPIDWUKPGUU\\016OCMGQWTRTQFWEVUCPFUGTXKEGUNGUUWUGHWN\\016NKOKVQWTCDKNKV[VQRWTUWGEGTVCKPDWUKPGUUOQFGNU\\016ECWUGWUVQEJCPIG\\r\\nQWTDWUKPGUURTCEVKEGU\\016CHHGEVQWTEQORGVKVKXGRQUKVKQPTGNCVKXGVQQWTRGGTU\\016CPF\\021QTQVJGTYKUGJCXGCPCFXGTUGGHHGEVQPQWTDWUKPGUU\\016\\r\\nTGRWVCVKQP\\016ƒPCPEKCNEQPFKVKQP\\016CPFQRGTCVKPITGUWNVU\\020\\r\\n(QTCFFKVKQPCNKPHQTOCVKQPCDQWVIQXGTPOGPVTGIWNCVKQPCRRNKECDNGVQQWTDWUKPGUU\\016UGG4KUM(CEVQTUKP+VGO\\023#\\0166TGPFUKP1WT$WUKPGUU\\r\\nCPF(KPCPEKCN\\'HHGEVKP2CTV++\\016+VGO\\031\\016CPF.GICN/CVVGTUKP0QVG\\023\\022QHVJG0QVGUVQ%QPUQNKFCVGF(KPCPEKCN5VCVGOGPVUKPENWFGFKP\\r\\n2CTV++\\016+VGO\\032QHVJKU#PPWCN4GRQTVQP(QTO\\023\\022\\017-\\020\\r\\nIntellectual\"\n",
            "      page_span {\n",
            "        first_page: 43\n",
            "        last_page: 43\n",
            "      }\n",
            "    }\n",
            "  }\n",
            "  contexts {\n",
            "    source_uri: \"gs://cloud-samples-data/gen-app-builder/search/alphabet-investor-pdfs/2021_alphabet_annual_report.pdf\"\n",
            "    text: \"KPEGTVCKPEQWPVTKGU CPFYGCTGEQOOKVVGFVQUWRRQTVKPIRTQVGEVGFNCDQTTKIJVU OCKPVCKPKPICPQRGPEWNVWTGCPFNKUVGPKPIVQCNN\\r\\nGORNQ[GGU 5WRRQTVKPIJGCNVJ[CPFQRGPFKCNQIWGKUEGPVTCNVQJQYYGYQTM CPFYGEQOOWPKECVGKPHQTOCVKQPCDQWVVJGEQORCP[\\r\\nVJTQWIJOWNVKRNGKPVGTPCNEJCPPGNUVQQWTGORNQ[GGU \\r\\n9JGPPGEGUUCT[ YGEQPVTCEVYKVJDWUKPGUUGUCTQWPFVJGYQTNFVQRTQXKFGURGEKCNK\\\\GFUGTXKEGUYJGTGYGFQPQVJCXGCRRTQRTKCVG\\r\\nKP JQWUGGZRGTVKUGQTTGUQWTEGU QHVGPKPƒGNFUVJCVTGSWKTGURGEKCNK\\\\GFVTCKPKPINKMGECHGQRGTCVKQPU EQPVGPVOQFGTCVKQP EWUVQOGT\\r\\nUWRRQTV CPFRJ[UKECNUGEWTKV[ 9GCNUQEQPVTCEVYKVJVGORQTCT[UVCHƒPICIGPEKGUYJGPYGPGGFVQEQXGTUJQTV VGTONGCXGU YJGPYG\\r\\nJCXGURKMGUKPDWUKPGUUPGGFU QTYJGPYGPGGFVQSWKEMN[KPEWDCVGURGEKCNRTQLGEVU 9GEJQQUGQWTRCTVPGTUCPFUVCHƒPICIGPEKGU\\r\\nECTGHWNN[ CPFTGXKGYVJGKTEQORNKCPEGYKVJ)QQINGŦU5WRRNKGT%QFGQH%QPFWEV 9GEQPVKPWCNN[OCMGKORTQXGOGPVUVQRTQOQVGC\\r\\nTGURGEVHWNCPFRQUKVKXGYQTMKPIGPXKTQPOGPVHQTGXGT[QPGţGORNQ[GGU XGPFQTU CPFVGORQTCT[UVCHHCNKMG \\r\\nGovernment\"\n",
            "    source_display_name: \"2021_alphabet_annual_report.pdf\"\n",
            "    score: 0.4716650148202759\n",
            "    chunk {\n",
            "      text: \"KPEGTVCKPEQWPVTKGU\\016CPFYGCTGEQOOKVVGFVQUWRRQTVKPIRTQVGEVGFNCDQTTKIJVU\\016OCKPVCKPKPICPQRGPEWNVWTGCPFNKUVGPKPIVQCNN\\r\\nGORNQ[GGU\\0205WRRQTVKPIJGCNVJ[CPFQRGPFKCNQIWGKUEGPVTCNVQJQYYGYQTM\\016CPFYGEQOOWPKECVGKPHQTOCVKQPCDQWVVJGEQORCP[\\r\\nVJTQWIJOWNVKRNGKPVGTPCNEJCPPGNUVQQWTGORNQ[GGU\\020\\r\\n9JGPPGEGUUCT[\\016YGEQPVTCEVYKVJDWUKPGUUGUCTQWPFVJGYQTNFVQRTQXKFGURGEKCNK\\\\GFUGTXKEGUYJGTGYGFQPQVJCXGCRRTQRTKCVG\\r\\nKP\\017JQWUGGZRGTVKUGQTTGUQWTEGU\\016QHVGPKPƒGNFUVJCVTGSWKTGURGEKCNK\\\\GFVTCKPKPINKMGECHGQRGTCVKQPU\\016EQPVGPVOQFGTCVKQP\\016EWUVQOGT\\r\\nUWRRQTV\\016CPFRJ[UKECNUGEWTKV[\\0209GCNUQEQPVTCEVYKVJVGORQTCT[UVCHƒPICIGPEKGUYJGPYGPGGFVQEQXGTUJQTV\\017VGTONGCXGU\\016YJGPYG\\r\\nJCXGURKMGUKPDWUKPGUUPGGFU\\016QTYJGPYGPGGFVQSWKEMN[KPEWDCVGURGEKCNRTQLGEVU\\0209GEJQQUGQWTRCTVPGTUCPFUVCHƒPICIGPEKGU\\r\\nECTGHWNN[\\016CPFTGXKGYVJGKTEQORNKCPEGYKVJ)QQINGŦU5WRRNKGT%QFGQH%QPFWEV\\0209GEQPVKPWCNN[OCMGKORTQXGOGPVUVQRTQOQVGC\\r\\nTGURGEVHWNCPFRQUKVKXGYQTMKPIGPXKTQPOGPVHQTGXGT[QPGţGORNQ[GGU\\016XGPFQTU\\016CPFVGORQTCT[UVCHHCNKMG\\020\\r\\nGovernment\"\n",
            "      page_span {\n",
            "        first_page: 43\n",
            "        last_page: 43\n",
            "      }\n",
            "    }\n",
            "  }\n",
            "  contexts {\n",
            "    source_uri: \"gs://cloud-samples-data/gen-app-builder/search/alphabet-investor-pdfs/2021_alphabet_annual_report.pdf\"\n",
            "    text: \"Any failure or alleged failure to comply with \\r\\nthese laws could harm our business, reputation, financial condition, and operating results. \\r\\n#WVJQTKVKGUCTQWPFVJGYQTNFJCXGCFQRVGFCPFCTGEQPUKFGTKPICPWODGTQHNGIKUNCVKXGCPFTGIWNCVQT[RTQRQUCNUEQPEGTPKPIFCVC\\r\\nRTQVGEVKQPCPFNKOKVUQPGPET[RVKQPQHWUGTFCVC #FXGTUGNGICNTWNKPIU NGIKUNCVKQP QTTGIWNCVKQPJCXGTGUWNVGFKP CPFOC[EQPVKPWG\\r\\nVQTGUWNVKP ƒPGUCPFQTFGTUTGSWKTKPIVJCVYGEJCPIGQWTFCVCRTCEVKEGU YJKEJEQWNFJCXGCPCFXGTUGGHHGEVQPQWTCDKNKV[VQRTQXKFG\\r\\nUGTXKEGU JCTOKPIQWTDWUKPGUUQRGTCVKQPU %QORN[KPIYKVJVJGUGGXQNXKPINCYUEQWNFTGUWNVKPUWDUVCPVKCNEQUVUCPFJCTOVJGSWCNKV[\\r\\nQHQWTRTQFWEVUCPFUGTXKEGU PGICVKXGN[CHHGEVKPIQWTDWUKPGUU CPFOC[DGRCTVKEWNCTN[EJCNNGPIKPIFWTKPIEGTVCKPVKOGU UWEJCUC\\r\\nPCVWTCNFKUCUVGTQTRCPFGOKE #OQPIUVQVJGTU YGCTGCPFYKNNDGUWDLGEVVQVJGHQNNQYKPINCYUCPFTGIWNCVKQPU \\r\\nz 6JG)GPGTCN&CVC2TQVGEVKQP4GIWNCVKQP\\n)&24  YJKEJCRRNKGUVQCNNQHQWTCEVKXKVKGUEQPFWEVGFHTQOCPGUVCDNKUJOGPVKPVJG\\'7\\r\\nQTTGNCVGFVQRTQFWEVUCPFUGTXKEGUVJCVYGQHHGTVQ\\'7WUGTUQTEWUVQOGTU QTVJGOQPKVQTKPIQHVJGKTDGJCXKQTKPVJG\\'7 \\'PUWTKPI\\r\\nEQORNKCPEGYKVJVJGTCPIGQHQDNKICVKQPUETGCVGFD[VJG)&24KUCPQPIQKPIEQOOKVOGPVVJCVKPXQNXGUUWDUVCPVKCNEQUVU &GURKVG\\r\\nQWTGHHQTVU IQXGTPOGPVCNCWVJQTKVKGUQTQVJGTUJCXGCUUGTVGFCPFOC[EQPVKPWGVQCUUGTVVJCVQWTDWUKPGUURTCEVKEGUHCKNVQEQORN[\\r\\nYKVJKVUTGSWKTGOGPVU +HQWTQRGTCVKQPUCTGHQWPFVQXKQNCVGVJG)&24TGSWKTGOGPVU YGOC[KPEWTUWDUVCPVKCNƒPGU JCXGVQEJCPIG\\r\\nQWTDWUKPGUURTCEVKEGU CPFHCEGTGRWVCVKQPCNJCTO CP[QHYJKEJEQWNFJCXGCPCFXGTUGGHHGEVQPQWTDWUKPGUU 5GTKQWUDTGCEJGU\\r\\nQHVJG)&24ECPTGUWNVKPCFOKPKUVTCVKXGƒPGUQHWRVQ  QHCPPWCNYQTNFYKFGTGXGPWGU (KPGUQHWRVQ  QHCPPWCNYQTNFYKFG\\r\\nTGXGPWGUECPDGNGXKGFHQTQVJGTURGEKƒGFXKQNCVKQPU \\r\\nz\"\n",
            "    source_display_name: \"2021_alphabet_annual_report.pdf\"\n",
            "    score: 0.471671797539684\n",
            "    chunk {\n",
            "      text: \"Any failure or alleged failure to comply with \\r\\nthese laws could harm our business, reputation, financial condition, and operating results. \\r\\n#WVJQTKVKGUCTQWPFVJGYQTNFJCXGCFQRVGFCPFCTGEQPUKFGTKPICPWODGTQHNGIKUNCVKXGCPFTGIWNCVQT[RTQRQUCNUEQPEGTPKPIFCVC\\r\\nRTQVGEVKQPCPFNKOKVUQPGPET[RVKQPQHWUGTFCVC\\020#FXGTUGNGICNTWNKPIU\\016NGIKUNCVKQP\\016QTTGIWNCVKQPJCXGTGUWNVGFKP\\016CPFOC[EQPVKPWG\\r\\nVQTGUWNVKP\\016ƒPGUCPFQTFGTUTGSWKTKPIVJCVYGEJCPIGQWTFCVCRTCEVKEGU\\016YJKEJEQWNFJCXGCPCFXGTUGGHHGEVQPQWTCDKNKV[VQRTQXKFG\\r\\nUGTXKEGU\\016JCTOKPIQWTDWUKPGUUQRGTCVKQPU\\020%QORN[KPIYKVJVJGUGGXQNXKPINCYUEQWNFTGUWNVKPUWDUVCPVKCNEQUVUCPFJCTOVJGSWCNKV[\\r\\nQHQWTRTQFWEVUCPFUGTXKEGU\\016PGICVKXGN[CHHGEVKPIQWTDWUKPGUU\\016CPFOC[DGRCTVKEWNCTN[EJCNNGPIKPIFWTKPIEGTVCKPVKOGU\\016UWEJCUC\\r\\nPCVWTCNFKUCUVGTQTRCPFGOKE\\020#OQPIUVQVJGTU\\016YGCTGCPFYKNNDGUWDLGEVVQVJGHQNNQYKPINCYUCPFTGIWNCVKQPU\\034\\r\\nz 6JG)GPGTCN&CVC2TQVGEVKQP4GIWNCVKQP\\n)&24\\013\\016YJKEJCRRNKGUVQCNNQHQWTCEVKXKVKGUEQPFWEVGFHTQOCPGUVCDNKUJOGPVKPVJG\\'7\\r\\nQTTGNCVGFVQRTQFWEVUCPFUGTXKEGUVJCVYGQHHGTVQ\\'7WUGTUQTEWUVQOGTU\\016QTVJGOQPKVQTKPIQHVJGKTDGJCXKQTKPVJG\\'7\\020\\'PUWTKPI\\r\\nEQORNKCPEGYKVJVJGTCPIGQHQDNKICVKQPUETGCVGFD[VJG)&24KUCPQPIQKPIEQOOKVOGPVVJCVKPXQNXGUUWDUVCPVKCNEQUVU\\020&GURKVG\\r\\nQWTGHHQTVU\\016IQXGTPOGPVCNCWVJQTKVKGUQTQVJGTUJCXGCUUGTVGFCPFOC[EQPVKPWGVQCUUGTVVJCVQWTDWUKPGUURTCEVKEGUHCKNVQEQORN[\\r\\nYKVJKVUTGSWKTGOGPVU\\020+HQWTQRGTCVKQPUCTGHQWPFVQXKQNCVGVJG)&24TGSWKTGOGPVU\\016YGOC[KPEWTUWDUVCPVKCNƒPGU\\016JCXGVQEJCPIG\\r\\nQWTDWUKPGUURTCEVKEGU\\016CPFHCEGTGRWVCVKQPCNJCTO\\016CP[QHYJKEJEQWNFJCXGCPCFXGTUGGHHGEVQPQWTDWUKPGUU\\0205GTKQWUDTGCEJGU\\r\\nQHVJG)&24ECPTGUWNVKPCFOKPKUVTCVKXGƒPGUQHWRVQ\\026\\007QHCPPWCNYQTNFYKFGTGXGPWGU\\020(KPGUQHWRVQ\\024\\007QHCPPWCNYQTNFYKFG\\r\\nTGXGPWGUECPDGNGXKGFHQTQVJGTURGEKƒGFXKQNCVKQPU\\020\\r\\nz\"\n",
            "      page_span {\n",
            "        first_page: 52\n",
            "        last_page: 52\n",
            "      }\n",
            "    }\n",
            "  }\n",
            "  contexts {\n",
            "    source_uri: \"gs://cloud-samples-data/gen-app-builder/search/alphabet-investor-pdfs/2021_alphabet_annual_report.pdf\"\n",
            "    text: \"GICN/CVVGTUKP0QVG  QHVJG0QVGUVQ%QPUQNKFCVGF(KPCPEKCN5VCVGOGPVUKPENWFGFKP\\r\\n2CTV++ +VGO QHVJKU#PPWCN4GRQTVQP(QTO   - \\r\\nIntellectual Property\\r\\n9GTGN[QPXCTKQWUKPVGNNGEVWCNRTQRGTV[NCYU EQPƒFGPVKCNKV[RTQEGFWTGUCPFEQPVTCEVWCNRTQXKUKQPUVQRTQVGEVQWTRTQRTKGVCT[VGEJPQNQI[\\r\\nCPFQWTDTCPF 9GJCXGTGIKUVGTGF CPFCRRNKGFHQTVJGTGIKUVTCVKQPQH 7 5 CPFKPVGTPCVKQPCNVTCFGOCTMU UGTXKEGOCTMU FQOCKP\\r\\nPCOGUCPFEQR[TKIJVU 9GJCXGCNUQƒNGFRCVGPVCRRNKECVKQPUKPVJG7 5 CPFHQTGKIPEQWPVTKGUEQXGTKPIEGTVCKPQHQWTVGEJPQNQI[ \\r\\nCPFCESWKTGFRCVGPVCUUGVUVQUWRRNGOGPVQWTRQTVHQNKQ 9GJCXGNKEGPUGFKPVJGRCUV CPFGZRGEVVJCVYGOC[NKEGPUGKPVJGHWVWTG \\r\\nEGTVCKPQHQWTTKIJVUVQQVJGTRCTVKGU (QTCFFKVKQPCNKPHQTOCVKQP UGG4KUM(CEVQTUKP+VGO #QHVJKU#PPWCN4GRQTVQP(QTO   - \\r\\nAvailable\"\n",
            "    source_display_name: \"2021_alphabet_annual_report.pdf\"\n",
            "    score: 0.47220688011765288\n",
            "    chunk {\n",
            "      text: \"GICN/CVVGTUKP0QVG\\023\\022QHVJG0QVGUVQ%QPUQNKFCVGF(KPCPEKCN5VCVGOGPVUKPENWFGFKP\\r\\n2CTV++\\016+VGO\\032QHVJKU#PPWCN4GRQTVQP(QTO\\023\\022\\017-\\020\\r\\nIntellectual Property\\r\\n9GTGN[QPXCTKQWUKPVGNNGEVWCNRTQRGTV[NCYU\\016EQPƒFGPVKCNKV[RTQEGFWTGUCPFEQPVTCEVWCNRTQXKUKQPUVQRTQVGEVQWTRTQRTKGVCT[VGEJPQNQI[\\r\\nCPFQWTDTCPF\\0209GJCXGTGIKUVGTGF\\016CPFCRRNKGFHQTVJGTGIKUVTCVKQPQH\\0167\\0205\\020CPFKPVGTPCVKQPCNVTCFGOCTMU\\016UGTXKEGOCTMU\\016FQOCKP\\r\\nPCOGUCPFEQR[TKIJVU\\0209GJCXGCNUQƒNGFRCVGPVCRRNKECVKQPUKPVJG7\\0205\\020CPFHQTGKIPEQWPVTKGUEQXGTKPIEGTVCKPQHQWTVGEJPQNQI[\\016\\r\\nCPFCESWKTGFRCVGPVCUUGVUVQUWRRNGOGPVQWTRQTVHQNKQ\\0209GJCXGNKEGPUGFKPVJGRCUV\\016CPFGZRGEVVJCVYGOC[NKEGPUGKPVJGHWVWTG\\016\\r\\nEGTVCKPQHQWTTKIJVUVQQVJGTRCTVKGU\\020(QTCFFKVKQPCNKPHQTOCVKQP\\016UGG4KUM(CEVQTUKP+VGO\\023#QHVJKU#PPWCN4GRQTVQP(QTO\\023\\022\\017-\\020\\r\\nAvailable\"\n",
            "      page_span {\n",
            "        first_page: 43\n",
            "        last_page: 43\n",
            "      }\n",
            "    }\n",
            "  }\n",
            "  contexts {\n",
            "    source_uri: \"gs://cloud-samples-data/gen-app-builder/search/alphabet-investor-pdfs/2021_alphabet_annual_report.pdf\"\n",
            "    text: \"CPWCT[        YGƒNGFCRGVKVKQPVQVJG7 5 5WRTGOG%QWTVVQTGXKGYVJGECUG 1P#RTKN        VJG5WRTGOG\\r\\n%QWTVTGSWGUVGFVJGXKGYUQHVJG5QNKEKVQT)GPGTCNTGICTFKPIQWTRGVKVKQP 1P5GRVGODGT        VJG5QNKEKVQT)GPGTCNTGEQOOGPFGF\\r\\nFGP[KPIQWTRGVKVKQP CPFYGRTQXKFGFQWTTGURQPUGQP1EVQDGT        1P0QXGODGT        VJG5WRTGOG%QWTVITCPVGFQWTRGVKVKQP\\r\\nCPFOCFGCFGEKUKQPVQTGXKGYVJGECUG 6JG5WRTGOG%QWTVJGCTFQTCNCTIWOGPVUKPQWTECUGQP1EVQDGT       1P#RTKN       \\r\\nVJG5WRTGOG%QWTVTGXGTUGFVJG(GFGTCN%KTEWKVŦUTWNKPICPFHQWPFVJCV)QQINGŦUWUGQHVJG,CXC#2+UYCUCHCKTWUGCUCOCVVGTQHNCY \\r\\n6JG5WRTGOG%QWTVTGOCPFGFVJGECUGVQVJG(GFGTCN%KTEWKVHQTHWTVJGTRTQEGGFKPIUKPEQPHQTOKV[YKVJVJG5WRTGOG%QWTVQRKPKQP 1P\\r\\n/C[        VJG(GFGTCN%KTEWKVGPVGTGFCPQTFGTCHƒTOKPIVJGFKUVTKEVEQWTVŦUƒPCNLWFIOGPVKPHCXQTQH)QQING 1P,WPG        VJG\\r\\n(GFGTCN%KTEWKVKUUWGFCOCPFCVGTGVWTPKPIVJGECUGVQVJGFKUVTKEVEQWTV CPFVJGECUGKUPQYEQPENWFGF \\r\\nOTHER \\r\\n9GCTGCNUQTGIWNCTN[UWDLGEVVQENCKOU UWKVU TGIWNCVQT[CPFIQXGTPOGPVKPXGUVKICVKQPU QVJGTRTQEGGFKPIU CPFEQPUGPVFGETGGU\\r\\nKPXQNXKPIEQORGVKVKQP KPVGNNGEVWCNRTQRGTV[ RTKXCE[ VCZCPFTGNCVGFEQORNKCPEG NCDQTCPFGORNQ[OGPV EQOOGTEKCNFKURWVGU EQPVGPV\\r\\nIGPGTCVGFD[QWTWUGTU IQQFUCPFUGTXKEGUQHHGTGFD[CFXGTVKUGTUQTRWDNKUJGTUWUKPIQWTRNCVHQTOU RGTUQPCNKPLWT[ EQPUWOGT\\r\\nRTQVGEVKQP CPFQVJGTOCVVGTU (QTGZCORNG YGJ\"\n",
            "    source_display_name: \"2021_alphabet_annual_report.pdf\"\n",
            "    score: 0.47362903329179373\n",
            "    chunk {\n",
            "      text: \"CPWCT[\\024\\026\\016\\024\\022\\023\\033\\016YGƒNGFCRGVKVKQPVQVJG7\\0205\\0205WRTGOG%QWTVVQTGXKGYVJGECUG\\0201P#RTKN\\024\\033\\016\\024\\022\\023\\033\\016VJG5WRTGOG\\r\\n%QWTVTGSWGUVGFVJGXKGYUQHVJG5QNKEKVQT)GPGTCNTGICTFKPIQWTRGVKVKQP\\0201P5GRVGODGT\\024\\031\\016\\024\\022\\023\\033\\016VJG5QNKEKVQT)GPGTCNTGEQOOGPFGF\\r\\nFGP[KPIQWTRGVKVKQP\\016CPFYGRTQXKFGFQWTTGURQPUGQP1EVQDGT\\023\\030\\016\\024\\022\\023\\033\\0201P0QXGODGT\\023\\027\\016\\024\\022\\023\\033\\016VJG5WRTGOG%QWTVITCPVGFQWTRGVKVKQP\\r\\nCPFOCFGCFGEKUKQPVQTGXKGYVJGECUG\\0206JG5WRTGOG%QWTVJGCTFQTCNCTIWOGPVUKPQWTECUGQP1EVQDGT\\031\\016\\024\\022\\024\\022\\0201P#RTKN\\027\\016\\024\\022\\024\\023\\016\\r\\nVJG5WRTGOG%QWTVTGXGTUGFVJG(GFGTCN%KTEWKVŦUTWNKPICPFHQWPFVJCV)QQINGŦUWUGQHVJG,CXC#2+UYCUCHCKTWUGCUCOCVVGTQHNCY\\020\\r\\n6JG5WRTGOG%QWTVTGOCPFGFVJGECUGVQVJG(GFGTCN%KTEWKVHQTHWTVJGTRTQEGGFKPIUKPEQPHQTOKV[YKVJVJG5WRTGOG%QWTVQRKPKQP\\0201P\\r\\n/C[\\023\\026\\016\\024\\022\\024\\023\\016VJG(GFGTCN%KTEWKVGPVGTGFCPQTFGTCHƒTOKPIVJGFKUVTKEVEQWTVŦUƒPCNLWFIOGPVKPHCXQTQH)QQING\\0201P,WPG\\024\\023\\016\\024\\022\\024\\023\\016VJG\\r\\n(GFGTCN%KTEWKVKUUWGFCOCPFCVGTGVWTPKPIVJGECUGVQVJGFKUVTKEVEQWTV\\016CPFVJGECUGKUPQYEQPENWFGF\\020\\r\\nOTHER \\r\\n9GCTGCNUQTGIWNCTN[UWDLGEVVQENCKOU\\016UWKVU\\016TGIWNCVQT[CPFIQXGTPOGPVKPXGUVKICVKQPU\\016QVJGTRTQEGGFKPIU\\016CPFEQPUGPVFGETGGU\\r\\nKPXQNXKPIEQORGVKVKQP\\016KPVGNNGEVWCNRTQRGTV[\\016RTKXCE[\\016VCZCPFTGNCVGFEQORNKCPEG\\016NCDQTCPFGORNQ[OGPV\\016EQOOGTEKCNFKURWVGU\\016EQPVGPV\\r\\nIGPGTCVGFD[QWTWUGTU\\016IQQFUCPFUGTXKEGUQHHGTGFD[CFXGTVKUGTUQTRWDNKUJGTUWUKPIQWTRNCVHQTOU\\016RGTUQPCNKPLWT[\\016EQPUWOGT\\r\\nRTQVGEVKQP\\016CPFQVJGTOCVVGTU\\020(QTGZCORNG\\016YGJ\"\n",
            "      page_span {\n",
            "        first_page: 111\n",
            "        last_page: 111\n",
            "      }\n",
            "    }\n",
            "  }\n",
            "  contexts {\n",
            "    source_uri: \"gs://cloud-samples-data/gen-app-builder/search/alphabet-investor-pdfs/2021_alphabet_annual_report.pdf\"\n",
            "    text: \"QW6WDGCPF#PFTQKFCPFYJGPYGNCWPEJGF%JTQOG DWVVJQUGGHHQTVUJCXGOCVWTGFKPVQOCLQTRNCVHQTOU\\r\\nHQTFKIKVCNXKFGQCPFOQDKNGFGXKEGUCPFCUCHGT RQRWNCTDTQYUGT 9GEQPVKPWGVQNQQMVQYCTFVJGHWVWTGCPFVQKPXGUVHQTVJGNQPI\\r\\nVGTOYKVJKPGCEJQHQWTUGIOGPVU #UYGUCKFKPVJGQTKIKPCNHQWPFGTUŦNGVVGT YGYKNNPQVUJ[CYC[HTQOJKIJ TKUM JKIJ TGYCTFRTQLGEVU\\r\\nVJCVYGDGNKGXGKP CUVJG[CTGVJGMG[VQQWTNQPI VGTOUWEEGUU \\r\\nThe power of AI\\r\\n#ETQUUVJGEQORCP[ KPXGUVOGPVUKP#+CPFOCEJKPGNGCTPKPICTGKPETGCUKPIN[FTKXKPIOCP[QHQWTNCVGUVKPPQXCVKQPUCPFJCXGGPCDNGF\\r\\nWUVQDWKNFRTQFWEVUVJCVCTGUOCTVGTCPFOQTGJGNRHWN (QTGZCORNG KP/C[QH     YGKPVTQFWEGF/WNVKVCUM7PKƒGF/QFGNţQT/7/ţ\\r\\nYJKEJJCUVJGRQVGPVKCNVQVTCPUHQTOJQY)QQINGJGNRUYKVJEQORNGZVCUMU /7/KUVTCKPGFCETQUU  FKHHGTGPVNCPIWCIGU YJKEJOGCPU\\r\\nVJCVKVECPNGCTPHTQOUQWTEGUYTKVVGPKPQPGNCPIWCIGCPFJGNRDTKPIVJCVKPHQTOCVKQPVQRGQRNGKPCPQVJGT +VKUCNUQOWNVKOQFCN UQKV\\r\\nWPFGTUVCPFUKPHQTOCVKQPCETQUUVGZVCPFKOCIGUCPF KPVJGHWVWTG ECPGZRCPFVQOQTGOQFCNKVKGUNKMGXKFGQCPFCWFKQ 9GCTGEWTTGPVN[\\r\\nGZRGTKOGPVKPIYKVJ/7/ŦUECRCDKNKVKGUVQOCMGUGCTEJKPIOQTGPCVWTCNCPFKPVWKVKXGCPFGXGPGPCDNGGPVKTGN[PGYYC[UVQUGCTEJ                                                                     \"\n",
            "    source_display_name: \"2021_alphabet_annual_report.pdf\"\n",
            "    score: 0.47483845328431518\n",
            "    chunk {\n",
            "      text: \"QW6WDGCPF#PFTQKFCPFYJGPYGNCWPEJGF%JTQOG\\016DWVVJQUGGHHQTVUJCXGOCVWTGFKPVQOCLQTRNCVHQTOU\\r\\nHQTFKIKVCNXKFGQCPFOQDKNGFGXKEGUCPFCUCHGT\\016RQRWNCTDTQYUGT\\0209GEQPVKPWGVQNQQMVQYCTFVJGHWVWTGCPFVQKPXGUVHQTVJGNQPI\\r\\nVGTOYKVJKPGCEJQHQWTUGIOGPVU\\020#UYGUCKFKPVJGQTKIKPCNHQWPFGTUŦNGVVGT\\016YGYKNNPQVUJ[CYC[HTQOJKIJ\\017TKUM\\016JKIJ\\017TGYCTFRTQLGEVU\\r\\nVJCVYGDGNKGXGKP\\016CUVJG[CTGVJGMG[VQQWTNQPI\\017VGTOUWEEGUU\\020\\r\\nThe power of AI\\r\\n#ETQUUVJGEQORCP[\\016KPXGUVOGPVUKP#+CPFOCEJKPGNGCTPKPICTGKPETGCUKPIN[FTKXKPIOCP[QHQWTNCVGUVKPPQXCVKQPUCPFJCXGGPCDNGF\\r\\nWUVQDWKNFRTQFWEVUVJCVCTGUOCTVGTCPFOQTGJGNRHWN\\020(QTGZCORNG\\016KP/C[QH\\024\\022\\024\\023\\016YGKPVTQFWEGF/WNVKVCUM7PKƒGF/QFGNţQT/7/ţ\\r\\nYJKEJJCUVJGRQVGPVKCNVQVTCPUHQTOJQY)QQINGJGNRUYKVJEQORNGZVCUMU\\020/7/KUVTCKPGFCETQUU\\031\\027FKHHGTGPVNCPIWCIGU\\016YJKEJOGCPU\\r\\nVJCVKVECPNGCTPHTQOUQWTEGUYTKVVGPKPQPGNCPIWCIGCPFJGNRDTKPIVJCVKPHQTOCVKQPVQRGQRNGKPCPQVJGT\\020+VKUCNUQOWNVKOQFCN\\016UQKV\\r\\nWPFGTUVCPFUKPHQTOCVKQPCETQUUVGZVCPFKOCIGUCPF\\016KPVJGHWVWTG\\016ECPGZRCPFVQOQTGOQFCNKVKGUNKMGXKFGQCPFCWFKQ\\0209GCTGEWTTGPVN[\\r\\nGZRGTKOGPVKPIYKVJ/7/ŦUECRCDKNKVKGUVQOCMGUGCTEJKPIOQTGPCVWTCNCPFKPVWKVKXGCPFGXGPGPCDNGGPVKTGN[PGYYC[UVQUGCTEJ\\020\\000\\000\\000\\000\\000\\000\\000\\000\\000\\000\\000\\000\\000\\000\\000\\000\\000\\000\\000\\000\\000\\000\\000\\000\\000\\000\\000\\000\\000\\000\\000\\000\\000\\000\\000\\000\\000\\000\\000\\000\\000\\000\\000\\000\\000\\000\\000\\000\\000\\000\\000\\000\\000\\000\\000\\000\\000\\000\\000\\000\\000\\000\\000\\000\\000\\000\\000\\000\"\n",
            "      page_span {\n",
            "        first_page: 39\n",
            "        last_page: 39\n",
            "      }\n",
            "    }\n",
            "  }\n",
            "}\n",
            "\n"
          ]
        }
      ],
      "source": [
        "# Direct context retrieval\n",
        "response = rag.retrieval_query(\n",
        "    rag_resources=[\n",
        "        rag.RagResource(\n",
        "            rag_corpus=rag_corpus.name,\n",
        "            # Optional: supply IDs from `rag.list_files()`.\n",
        "            # rag_file_ids=[\"rag-file-1\", \"rag-file-2\", ...],\n",
        "        )\n",
        "    ],\n",
        "    rag_retrieval_config=rag.RagRetrievalConfig(\n",
        "        top_k=10,  # Optional\n",
        "        filter=rag.Filter(\n",
        "            vector_distance_threshold=0.5,  # Optional\n",
        "        ),\n",
        "    ),\n",
        "    text=\"What is RAG and why it is helpful?\",\n",
        ")\n",
        "print(response)\n",
        "\n",
        "# Optional: The retrieved context can be passed to any SDK or model generation API to generate final results.\n",
        "# context = \" \".join([context.text for context in response.contexts.contexts]).replace(\"\\n\", \"\")"
      ]
    },
    {
      "cell_type": "markdown",
      "metadata": {
        "id": "79ea89661842"
      },
      "source": [
        "### Create RAG Retrieval Tool"
      ]
    },
    {
      "cell_type": "code",
      "execution_count": 19,
      "metadata": {
        "id": "0ebceac3d816"
      },
      "outputs": [],
      "source": [
        "# Create a tool for the RAG Corpus\n",
        "rag_retrieval_tool = Tool(\n",
        "    retrieval=Retrieval(\n",
        "        vertex_rag_store=VertexRagStore(\n",
        "            rag_corpora=[rag_corpus.name],\n",
        "            similarity_top_k=10,\n",
        "            vector_distance_threshold=0.5,\n",
        "        )\n",
        "    )\n",
        ")"
      ]
    },
    {
      "cell_type": "markdown",
      "metadata": {
        "id": "d88fa7ede853"
      },
      "source": [
        "### Generate Content with Gemini using RAG Retrieval Tool"
      ]
    },
    {
      "cell_type": "code",
      "execution_count": 20,
      "metadata": {
        "id": "8dd928baecd4"
      },
      "outputs": [],
      "source": [
        "MODEL_ID = \"gemini-2.0-flash-001\""
      ]
    },
    {
      "cell_type": "code",
      "execution_count": 21,
      "metadata": {
        "colab": {
          "base_uri": "https://localhost:8080/",
          "height": 81
        },
        "id": "124b36be8d5b",
        "outputId": "8e12ec62-df61-41bd-e9da-b44ced1b4610"
      },
      "outputs": [
        {
          "data": {
            "text/markdown": [
              "The documents provided are:\n",
              "\n",
              "*   Arancel Nacional Uruguay Abril 2024: 4 0 10\n",
              "*   Arancel Nacional Uruguay Abril 2024: 22.00.10\n",
              "*   Arancel Nacional Uruguay Abril 2024: 22.00.10 Crudos\n",
              "*   Arancel Nacional Uruguay Abril 2024: 59.90.00\n",
              "*   Arancel Nacional Uruguay Abril 2024: 10.80 10.8 0 10\n",
              "*   Arancel Nacional Uruguay Abril 2024: 29.90.10\n",
              "*   Arancel Nacional Uruguay Abril 2024: 1209.10.00.00\n",
              "*   Arancel Nacional Uruguay Abril 2024: 80 10.8 0 10\n",
              "*   Arancel Nacional Uruguay Abril 2024: 21.00.00\n",
              "*   Arancel Nacional Uruguay Abril 2024\n"
            ],
            "text/plain": [
              "<IPython.core.display.Markdown object>"
            ]
          },
          "metadata": {},
          "output_type": "display_data"
        }
      ],
      "source": [
        "response = client.models.generate_content(\n",
        "    model=MODEL_ID,\n",
        "    contents=\"List me your provided documents\",\n",
        "    config=GenerateContentConfig(tools=[rag_retrieval_tool]),\n",
        ")\n",
        "\n",
        "display(Markdown(response.text))"
      ]
    },
    {
      "cell_type": "markdown",
      "metadata": {},
      "source": [
        "### Funciones para Consultar el Arancel Uruguayo\n",
        "\n",
        "Ahora crearemos funciones específicas para consultar códigos arancelarios y tarifas del arancel nacional de Uruguay."
      ]
    },
    {
      "cell_type": "code",
      "execution_count": 22,
      "metadata": {},
      "outputs": [],
      "source": [
        "# Función especializada para consultar el arancel uruguayo\n",
        "def consultar_arancel_uruguay(descripcion_producto):\n",
        "    response = client.models.generate_content(\n",
        "        model=MODEL_ID,\n",
        "        contents=f\"\"\"\n",
        "        Basándote en el Arancel Nacional de Uruguay (Abril 2024), encuentra la clasificación arancelaria para:\n",
        "        \n",
        "        PRODUCTO: {descripcion_producto}\n",
        "        \n",
        "        Proporciona la información en este formato exacto:\n",
        "        \n",
        "        **Código NCM:** [código de 8 dígitos]\n",
        "        **Descripción:** [descripción oficial del arancel]\n",
        "        **TEA (%):** [Tarifa Externa de Arancel]\n",
        "        **Régimen:** [información sobre régimen especial si aplica]\n",
        "        **Observaciones:** [notas adicionales si las hay]\n",
        "        \n",
        "        Si hay múltiples códigos posibles, lista los 2 más apropiados.\n",
        "        \"\"\",\n",
        "        config=GenerateContentConfig(tools=[rag_retrieval_tool]),\n",
        "    )\n",
        "    return response"
      ]
    },
    {
      "cell_type": "code",
      "execution_count": 36,
      "metadata": {},
      "outputs": [
        {
          "name": "stdout",
          "output_type": "stream",
          "text": [
            "=== CONSULTAS AL ARANCEL NACIONAL URUGUAY ===\n",
            "\n",
            "1. PRODUCTO: Café verde en grano sin tostar\n"
          ]
        },
        {
          "data": {
            "text/markdown": [
              "**Código NCM:** 0901.10.00\n",
              "**Descripción:** Café verde en grano sin tostar\n",
              "**TEA (%):** 0%\n",
              "**Régimen:** No aplica\n",
              "**Observaciones:** No aplica\n"
            ],
            "text/plain": [
              "<IPython.core.display.Markdown object>"
            ]
          },
          "metadata": {},
          "output_type": "display_data"
        },
        {
          "name": "stdout",
          "output_type": "stream",
          "text": [
            "\n",
            "======================================================================\n",
            "\n",
            "2. PRODUCTO: Smartphone con pantalla táctil\n"
          ]
        },
        {
          "data": {
            "text/markdown": [
              "No puedo proporcionar la clasificación arancelaria para un smartphone con pantalla táctil. Los documentos proporcionados no contienen información sobre ese producto.\n"
            ],
            "text/plain": [
              "<IPython.core.display.Markdown object>"
            ]
          },
          "metadata": {},
          "output_type": "display_data"
        },
        {
          "name": "stdout",
          "output_type": "stream",
          "text": [
            "\n",
            "======================================================================\n",
            "\n",
            "3. PRODUCTO: Carne bovina congelada\n"
          ]
        },
        {
          "data": {
            "text/markdown": [
              "**Código NCM:** 0202.10.00.00\n",
              "**Descripción:** En canales o medias canales\n",
              "**TEA (%):** 9\n",
              "**Régimen:** Ninguno especificado\n",
              "**Observaciones:** N/A\n",
              "\n",
              "**Código NCM:** 0202.20\n",
              "**Descripción:** Los demás cortes (trozos) sin deshuesar\n",
              "**TEA (%):** 9\n",
              "**Régimen:** Ninguno especificado\n",
              "**Observaciones:** N/A\n"
            ],
            "text/plain": [
              "<IPython.core.display.Markdown object>"
            ]
          },
          "metadata": {},
          "output_type": "display_data"
        },
        {
          "name": "stdout",
          "output_type": "stream",
          "text": [
            "\n",
            "======================================================================\n",
            "\n"
          ]
        }
      ],
      "source": [
        "# Casos de prueba específicos para el mercado uruguayo\n",
        "productos_test = [\n",
        "    \"Café verde en grano sin tostar\",\n",
        "    \"Smartphone con pantalla táctil\",\n",
        "    \"Carne bovina congelada\",\n",
        "    \"Vino tinto en botellas de vidrio\",\n",
        "    \"Computadora portátil\",\n",
        "    \"Medicamentos para diabetes\",\n",
        "    \"Aceite de girasol refinado\",\n",
        "    \"Neumáticos para automóvil\",\n",
        "    \"Queso tipo mozzarella\",\n",
        "    \"Arroz blanco pulido\"\n",
        "]\n",
        "\n",
        "print(\"=== CONSULTAS AL ARANCEL NACIONAL URUGUAY ===\\n\")\n",
        "\n",
        "for i, producto in enumerate(productos_test[:3], 1):  # Probamos solo los primeros 3\n",
        "    print(f\"{i}. PRODUCTO: {producto}\")\n",
        "    resultado = consultar_arancel_uruguay(producto)\n",
        "    display(Markdown(resultado.text))\n",
        "    print(\"\\n\" + \"=\"*70 + \"\\n\")"
      ]
    },
    {
      "cell_type": "code",
      "execution_count": 24,
      "metadata": {},
      "outputs": [
        {
          "name": "stdout",
          "output_type": "stream",
          "text": [
            "=== VALIDACIÓN DE CÓDIGO NCM ===\n",
            "Código: 09011100\n",
            "Producto: Café verde en grano, sin tostar, sin descafeinar\n",
            "----------------------------------------\n"
          ]
        },
        {
          "data": {
            "text/markdown": [
              "1. SÍ\n",
              "2. La descripción de la NCM 0901.11.10.00 es: Café sin tostar, sin descafeinar, en grano. La tarifa es 9 0 0 10.\n",
              "3. No aplica\n",
              "4. No aplica"
            ],
            "text/plain": [
              "<IPython.core.display.Markdown object>"
            ]
          },
          "metadata": {},
          "output_type": "display_data"
        }
      ],
      "source": [
        "# Función para validar códigos arancelarios específicos\n",
        "def validar_codigo_ncm(codigo_ncm, descripcion_producto):\n",
        "    response = client.models.generate_content(\n",
        "        model=MODEL_ID,\n",
        "        contents=f\"\"\"\n",
        "        Verifica en el Arancel Nacional de Uruguay si el código NCM {codigo_ncm} \n",
        "        es correcto para el producto: {descripcion_producto}\n",
        "        \n",
        "        Responde:\n",
        "        1. ¿Es correcto el código? (SÍ/NO)\n",
        "        2. Si es correcto: confirma tarifa y descripción oficial\n",
        "        3. Si es incorrecto: proporciona el código correcto\n",
        "        4. Justificación de la clasificación\n",
        "        \"\"\",\n",
        "        config=GenerateContentConfig(tools=[rag_retrieval_tool]),\n",
        "    )\n",
        "    return response\n",
        "\n",
        "# Ejemplo de validación\n",
        "codigo_test = \"09011100\"  # Ejemplo de código para café\n",
        "producto_test = \"Café verde en grano, sin tostar, sin descafeinar\"\n",
        "\n",
        "print(\"=== VALIDACIÓN DE CÓDIGO NCM ===\")\n",
        "print(f\"Código: {codigo_test}\")\n",
        "print(f\"Producto: {producto_test}\")\n",
        "print(\"-\" * 40)\n",
        "\n",
        "resultado_validacion = validar_codigo_ncm(codigo_test, producto_test)\n",
        "display(Markdown(resultado_validacion.text))"
      ]
    },
    {
      "cell_type": "markdown",
      "metadata": {
        "id": "0268fe43d41c"
      },
      "source": [
        "### Generate Content with Llama3 using RAG Retrieval Tool"
      ]
    },
    {
      "cell_type": "markdown",
      "metadata": {},
      "source": [
        "## 🔄 Generación de Descripciones Técnicas del Arancel\n",
        "\n",
        "Esta función toma una descripción de producto en lenguaje coloquial y genera múltiples descripciones alternativas usando el lenguaje formal y técnico característico del arancel uruguayo. Esto mejora significativamente la precisión del RAG al crear un \"puente\" entre el lenguaje cotidiano y la terminología arancelaria oficial."
      ]
    },
    {
      "cell_type": "code",
      "execution_count": 38,
      "metadata": {},
      "outputs": [],
      "source": [
        "def generar_descripciones_arancel(descripcion_producto, modelo=\"gemini\", num_alternativas=5):\n",
        "    \"\"\"\n",
        "    Genera descripciones alternativas de un producto usando el lenguaje técnico \n",
        "    y formal característico del arancel uruguayo para mejorar la precisión del RAG.\n",
        "    \n",
        "    Args:\n",
        "        descripcion_producto (str): Descripción del producto en lenguaje coloquial\n",
        "        modelo (str): Modelo a usar (\"gemini\" o \"llama\")\n",
        "        num_alternativas (int): Número de descripciones alternativas a generar\n",
        "        \n",
        "    Returns:\n",
        "        list: Lista de descripciones técnicas alternativas\n",
        "    \"\"\"\n",
        "    \n",
        "    prompt = f\"\"\"\n",
        "    Actúa como un experto en clasificación arancelaria uruguaya. Tu tarea es generar {num_alternativas} descripciones alternativas para el siguiente producto, usando el lenguaje técnico y formal característico del arancel nacional uruguayo.\n",
        "\n",
        "    PRODUCTO A ANALIZAR: {descripcion_producto}\n",
        "\n",
        "    INSTRUCCIONES:\n",
        "    1. Genera {num_alternativas} descripciones técnicas diferentes del producto\n",
        "    2. Usa terminología específica del arancel (materiales, procesos, usos, características técnicas)\n",
        "    3. Incluye posibles sinónimos técnicos y variaciones terminológicas\n",
        "    4. Considera diferentes aspectos: composición, función, uso industrial/comercial, método de fabricación\n",
        "    5. Mantén el formato y estilo de las descripciones del arancel uruguayo\n",
        "    6. No inventes códigos NCM, solo genera las descripciones\n",
        "\n",
        "    EJEMPLOS DE LENGUAJE ARANCELARIO:\n",
        "    - \"Artículos de...\" en lugar de \"productos de...\"\n",
        "    - \"Manufacturas de...\" en lugar de \"hechos de...\"\n",
        "    - \"Aparatos y material para...\" en lugar de \"equipos para...\"\n",
        "    - \"Preparaciones...\" para productos procesados\n",
        "    - Especificaciones técnicas como \"con contenido de...\", \"de peso superior a...\", etc.\n",
        "\n",
        "    Formato de respuesta:\n",
        "    1. [Primera descripción técnica]\n",
        "    2. [Segunda descripción técnica]\n",
        "    3. [Tercera descripción técnica]\n",
        "    4. [Cuarta descripción técnica]\n",
        "    5. [Quinta descripción técnica]\n",
        "\n",
        "    Responde únicamente con las descripciones numeradas, sin explicaciones adicionales.\n",
        "    \"\"\"\n",
        "    \n",
        "    try:\n",
        "        response = client.models.generate_content(\n",
        "                model=MODEL_ID,\n",
        "                contents=prompt\n",
        "            )\n",
        "        resultado = response.text\n",
        "        \n",
        "        # Procesar la respuesta para extraer las descripciones\n",
        "        lineas = resultado.strip().split('\\n')\n",
        "        descripciones = []\n",
        "        \n",
        "        for linea in lineas:\n",
        "            linea = linea.strip()\n",
        "            if linea and (linea.startswith(tuple('12345')) or linea.startswith('-') or linea.startswith('•')):\n",
        "                # Limpiar numeración y caracteres especiales\n",
        "                descripcion_limpia = linea\n",
        "                for i in range(1, 10):\n",
        "                    descripcion_limpia = descripcion_limpia.replace(f\"{i}. \", \"\").replace(f\"{i}.\", \"\")\n",
        "                descripcion_limpia = descripcion_limpia.replace(\"- \", \"\").replace(\"• \", \"\").strip()\n",
        "                \n",
        "                if descripcion_limpia and len(descripcion_limpia) > 10:  # Filtrar descripciones muy cortas\n",
        "                    descripciones.append(descripcion_limpia)\n",
        "        \n",
        "        # Si no se pudieron extraer descripciones del formato, usar el texto completo dividido\n",
        "        if len(descripciones) < 2:\n",
        "            parrafos = [p.strip() for p in resultado.split('\\n') if p.strip() and len(p.strip()) > 20]\n",
        "            descripciones = parrafos[:num_alternativas]\n",
        "        \n",
        "        # Asegurar que tenemos al menos algunas descripciones\n",
        "        if not descripciones:\n",
        "            descripciones = [resultado.strip()]\n",
        "        \n",
        "        return descripciones[:num_alternativas]\n",
        "        \n",
        "    except Exception as e:\n",
        "        print(f\"❌ Error al generar descripciones técnicas: {e}\")\n",
        "        return [descripcion_producto]  # Devolver la descripción original como fallback\n",
        "\n",
        "\n",
        "def consultar_con_descripciones_mejoradas(descripcion_producto, modelo=\"gemini\", usar_descripciones_tecnicas=True):\n",
        "    \"\"\"\n",
        "    Consulta el arancel usando descripciones técnicas generadas automáticamente \n",
        "    para mejorar la precisión del RAG.\n",
        "    \n",
        "    Args:\n",
        "        descripcion_producto (str): Descripción del producto en lenguaje coloquial\n",
        "        modelo (str): Modelo a usar (\"gemini\" o \"llama\")\n",
        "        usar_descripciones_tecnicas (bool): Si generar descripciones técnicas adicionales\n",
        "        \n",
        "    Returns:\n",
        "        dict: Resultados de la consulta con descripciones técnicas\n",
        "    \"\"\"\n",
        "    \n",
        "    print(f\"🔍 Consultando arancel para: '{descripcion_producto}'\")\n",
        "    print(f\"🤖 Modelo seleccionado: {modelo}\")\n",
        "    \n",
        "    # Generar descripciones técnicas si está habilitado\n",
        "    descripciones_para_consultar = [descripcion_producto]\n",
        "    \n",
        "    if usar_descripciones_tecnicas:\n",
        "        print(\"🔄 Generando descripciones técnicas alternativas...\")\n",
        "        descripciones_tecnicas = generar_descripciones_arancel(descripcion_producto, modelo, 3)\n",
        "        descripciones_para_consultar.extend(descripciones_tecnicas)\n",
        "        \n",
        "        print(\"📝 Descripciones técnicas generadas:\")\n",
        "        for i, desc in enumerate(descripciones_tecnicas, 1):\n",
        "            print(f\"   {i}. {desc}\")\n",
        "        print()\n",
        "    \n",
        "    # Realizar consultas con todas las descripciones\n",
        "    resultados = {}\n",
        "    \n",
        "    for i, descripcion in enumerate(descripciones_para_consultar):\n",
        "        etiqueta = \"Original\" if i == 0 else f\"Técnica {i}\"\n",
        "        print(f\"🔍 Consultando con descripción {etiqueta}...\")\n",
        "        \n",
        "        try:\n",
        "            resultado = consultar_arancel_uruguay(descripcion)\n",
        "            \n",
        "            resultados[etiqueta] = {\n",
        "                \"descripcion_usada\": descripcion,\n",
        "                \"resultado\": resultado.text if hasattr(resultado, 'text') else str(resultado)\n",
        "            }\n",
        "            \n",
        "        except Exception as e:\n",
        "            print(f\"❌ Error en consulta {etiqueta}: {e}\")\n",
        "            resultados[etiqueta] = {\n",
        "                \"descripcion_usada\": descripcion,\n",
        "                \"resultado\": f\"Error: {e}\"\n",
        "            }\n",
        "    \n",
        "    return resultados"
      ]
    },
    {
      "cell_type": "markdown",
      "metadata": {},
      "source": [
        "### 🧪 Ejemplos de Generación de Descripciones Técnicas\n",
        "\n",
        "Demostraciones de cómo la función mejora la precisión del RAG transformando descripciones coloquiales en lenguaje técnico arancelario."
      ]
    },
    {
      "cell_type": "code",
      "execution_count": 33,
      "metadata": {},
      "outputs": [
        {
          "name": "stdout",
          "output_type": "stream",
          "text": [
            "🔄 Generando descripciones técnicas del arancel...\n",
            "📦 Producto original: 'zapatillas deportivas'\n",
            "============================================================\n",
            "📝 Descripciones técnicas generadas:\n",
            "\n",
            "1. Calzado deportivo con suela de caucho o plástico y parte superior de materia textil, concebido para la práctica de actividades físicas, que comprende calzado para entrenamiento, atletismo, baloncesto, tenis y otros deportes, independientemente de su diseño o marca. Se excluyen las botas de esquí y el calzado con dispositivos especiales, tales como patines o cuchillas fijas.\n",
            "\n",
            "2. Artículos de calzado para deportes, cuya parte superior esté confeccionada principalmente con cuero natural o regenerado, y la suela sea de caucho vulcanizado, adherido o cosido a la parte superior. Considerar las variaciones en el diseño y la presencia de elementos de refuerzo o protección, tales como taloneras o punteras.\n",
            "\n",
            "3. Manufacturas de calzado, diseñadas para el soporte y protección del pie durante la actividad deportiva, incluyendo calzado para uso recreativo o profesional. Dichos artículos presentan características tales como amortiguación, estabilidad y tracción, y pueden incluir tecnologías específicas para mejorar el rendimiento deportivo, independientemente de la presencia de logotipos o adornos.\n",
            "\n",
            "4. Calzado, comprendiendo tanto el par, con suela exterior de material sintético y parte superior predominantemente de fibras sintéticas, apto para la práctica deportiva en interiores o exteriores. Este calzado puede incluir plantillas removibles y sistemas de ajuste, como cordones o velcro, sin afectar su clasificación.\n",
            "\n",
            "============================================================\n",
            "✅ Las descripciones técnicas ayudan al RAG a encontrar clasificaciones más precisas en el arancel.\n",
            "📝 Descripciones técnicas generadas:\n",
            "\n",
            "1. Calzado deportivo con suela de caucho o plástico y parte superior de materia textil, concebido para la práctica de actividades físicas, que comprende calzado para entrenamiento, atletismo, baloncesto, tenis y otros deportes, independientemente de su diseño o marca. Se excluyen las botas de esquí y el calzado con dispositivos especiales, tales como patines o cuchillas fijas.\n",
            "\n",
            "2. Artículos de calzado para deportes, cuya parte superior esté confeccionada principalmente con cuero natural o regenerado, y la suela sea de caucho vulcanizado, adherido o cosido a la parte superior. Considerar las variaciones en el diseño y la presencia de elementos de refuerzo o protección, tales como taloneras o punteras.\n",
            "\n",
            "3. Manufacturas de calzado, diseñadas para el soporte y protección del pie durante la actividad deportiva, incluyendo calzado para uso recreativo o profesional. Dichos artículos presentan características tales como amortiguación, estabilidad y tracción, y pueden incluir tecnologías específicas para mejorar el rendimiento deportivo, independientemente de la presencia de logotipos o adornos.\n",
            "\n",
            "4. Calzado, comprendiendo tanto el par, con suela exterior de material sintético y parte superior predominantemente de fibras sintéticas, apto para la práctica deportiva en interiores o exteriores. Este calzado puede incluir plantillas removibles y sistemas de ajuste, como cordones o velcro, sin afectar su clasificación.\n",
            "\n",
            "============================================================\n",
            "✅ Las descripciones técnicas ayudan al RAG a encontrar clasificaciones más precisas en el arancel.\n"
          ]
        }
      ],
      "source": [
        "# Ejemplo 1: Generación de descripciones técnicas para un producto común\n",
        "producto_ejemplo = \"zapatillas deportivas\"\n",
        "\n",
        "print(\"🔄 Generando descripciones técnicas del arancel...\")\n",
        "print(f\"📦 Producto original: '{producto_ejemplo}'\")\n",
        "print(\"=\" * 60)\n",
        "\n",
        "descripciones_tecnicas = generar_descripciones_arancel(producto_ejemplo, modelo=\"gemini\", num_alternativas=4)\n",
        "\n",
        "print(\"📝 Descripciones técnicas generadas:\")\n",
        "for i, descripcion in enumerate(descripciones_tecnicas, 1):\n",
        "    print(f\"\\n{i}. {descripcion}\")\n",
        "\n",
        "print(\"\\n\" + \"=\" * 60)\n",
        "print(\"✅ Las descripciones técnicas ayudan al RAG a encontrar clasificaciones más precisas en el arancel.\")"
      ]
    },
    {
      "cell_type": "code",
      "execution_count": 34,
      "metadata": {},
      "outputs": [
        {
          "name": "stdout",
          "output_type": "stream",
          "text": [
            "🚀 CONSULTA CON DESCRIPCIONES TÉCNICAS MEJORADAS\n",
            "======================================================================\n",
            "🔍 Consultando arancel para: 'cámara digital'\n",
            "🤖 Modelo seleccionado: gemini\n",
            "🔄 Generando descripciones técnicas alternativas...\n",
            "📝 Descripciones técnicas generadas:\n",
            "   1. Aparatos fotográficos digitales, de imagen fija, con dispositivo visor electrónico incorporado, capaces de grabar video, incluso con función de almacenamiento interno o externo, para uso doméstico o profesional, con lente objetivo intercambiable o no, excluidas las cámaras cinematográficas.\n",
            "   2. Cámaras fotográficas digitales, comprendidas entre las cámaras de imagen fija, que emplean un sensor electrónico (CCD o CMOS) para la captación de imágenes, con capacidad de visualización inmediata en pantalla LCD o OLED, provistas o no de flash incorporado, incluso aquellas con funciones adicionales de grabación de audio y/o video digital, y con interfaz de comunicación para transferencia de datos a dispositivos externos.\n",
            "   3. Artículos electrónicos de consumo, constituidos por aparatos de registro de imágenes fijas, que incorporan un sistema óptico y un sensor de imagen digital, con capacidad de digitalización y almacenamiento de las imágenes capturadas, presentados en un cuerpo único o en forma de kit, incluyendo o no accesorios tales como baterías, cargadores, cables de conexión y software, destinados al registro y reproducción de imágenes fotográficas.\n",
            "\n",
            "🔍 Consultando con descripción Original...\n",
            "📝 Descripciones técnicas generadas:\n",
            "   1. Aparatos fotográficos digitales, de imagen fija, con dispositivo visor electrónico incorporado, capaces de grabar video, incluso con función de almacenamiento interno o externo, para uso doméstico o profesional, con lente objetivo intercambiable o no, excluidas las cámaras cinematográficas.\n",
            "   2. Cámaras fotográficas digitales, comprendidas entre las cámaras de imagen fija, que emplean un sensor electrónico (CCD o CMOS) para la captación de imágenes, con capacidad de visualización inmediata en pantalla LCD o OLED, provistas o no de flash incorporado, incluso aquellas con funciones adicionales de grabación de audio y/o video digital, y con interfaz de comunicación para transferencia de datos a dispositivos externos.\n",
            "   3. Artículos electrónicos de consumo, constituidos por aparatos de registro de imágenes fijas, que incorporan un sistema óptico y un sensor de imagen digital, con capacidad de digitalización y almacenamiento de las imágenes capturadas, presentados en un cuerpo único o en forma de kit, incluyendo o no accesorios tales como baterías, cargadores, cables de conexión y software, destinados al registro y reproducción de imágenes fotográficas.\n",
            "\n",
            "🔍 Consultando con descripción Original...\n",
            "🔍 Consultando con descripción Técnica 1...\n",
            "🔍 Consultando con descripción Técnica 1...\n",
            "🔍 Consultando con descripción Técnica 2...\n",
            "🔍 Consultando con descripción Técnica 2...\n",
            "🔍 Consultando con descripción Técnica 3...\n",
            "🔍 Consultando con descripción Técnica 3...\n",
            "\n",
            "📊 RESULTADOS COMPARATIVOS:\n",
            "======================================================================\n",
            "\n",
            "🔹 ORIGINAL:\n",
            "   📝 Descripción: cámara digital\n",
            "   🎯 Resultado: **Código NCM:** 8525.89.29.00\n",
            "**Descripción:** Las demás cámaras digitales y videocámaras\n",
            "**TEA (%):** 20\n",
            "**Régimen:** 20\n",
            "**Observaciones:** 0 10\n",
            "\n",
            "**Código NCM:** 8525.89.21.00\n",
            "**Descripción:** Cámara...\n",
            "--------------------------------------------------\n",
            "\n",
            "🔹 TÉCNICA 1:\n",
            "   📝 Descripción: Aparatos fotográficos digitales, de imagen fija, con dispositivo visor electrónico incorporado, capaces de grabar video, incluso con función de almacenamiento interno o externo, para uso doméstico o profesional, con lente objetivo intercambiable o no, excluidas las cámaras cinematográficas.\n",
            "   🎯 Resultado: **Código NCM:** 8525.89.29.00\n",
            "**Descripción:** Las demás cámaras digitales y videocámaras\n",
            "**TEA (%):** 20\n",
            "**Régimen:** BK\n",
            "**Observaciones:** N/A\n",
            "\n",
            "**Código NCM:** 9006.5 - Las demás cámaras fotográfica...\n",
            "--------------------------------------------------\n",
            "\n",
            "🔹 TÉCNICA 2:\n",
            "   📝 Descripción: Cámaras fotográficas digitales, comprendidas entre las cámaras de imagen fija, que emplean un sensor electrónico (CCD o CMOS) para la captación de imágenes, con capacidad de visualización inmediata en pantalla LCD o OLED, provistas o no de flash incorporado, incluso aquellas con funciones adicionales de grabación de audio y/o video digital, y con interfaz de comunicación para transferencia de datos a dispositivos externos.\n",
            "   🎯 Resultado: **Código NCM:** 8525.89.2\n",
            "**Descripción:** Cámaras digitales y videocámaras\n",
            "**TEA (%):** 20\n",
            "**Régimen:** BK\n",
            "**Observaciones:**\n",
            "\n",
            "**Código NCM:** 8525.89.29.00\n",
            "**Descripción:** Las demás\n",
            "**TEA (%):** 20...\n",
            "--------------------------------------------------\n",
            "\n",
            "🔹 TÉCNICA 3:\n",
            "   📝 Descripción: Artículos electrónicos de consumo, constituidos por aparatos de registro de imágenes fijas, que incorporan un sistema óptico y un sensor de imagen digital, con capacidad de digitalización y almacenamiento de las imágenes capturadas, presentados en un cuerpo único o en forma de kit, incluyendo o no accesorios tales como baterías, cargadores, cables de conexión y software, destinados al registro y reproducción de imágenes fotográficas.\n",
            "   🎯 Resultado: No puedo proporcionar la clasificación arancelaria para el producto descrito. La información proporcionada en los resultados de búsqueda no contiene datos sobre aparatos de registro de imágenes fijas ...\n",
            "--------------------------------------------------\n",
            "\n",
            "📊 RESULTADOS COMPARATIVOS:\n",
            "======================================================================\n",
            "\n",
            "🔹 ORIGINAL:\n",
            "   📝 Descripción: cámara digital\n",
            "   🎯 Resultado: **Código NCM:** 8525.89.29.00\n",
            "**Descripción:** Las demás cámaras digitales y videocámaras\n",
            "**TEA (%):** 20\n",
            "**Régimen:** 20\n",
            "**Observaciones:** 0 10\n",
            "\n",
            "**Código NCM:** 8525.89.21.00\n",
            "**Descripción:** Cámara...\n",
            "--------------------------------------------------\n",
            "\n",
            "🔹 TÉCNICA 1:\n",
            "   📝 Descripción: Aparatos fotográficos digitales, de imagen fija, con dispositivo visor electrónico incorporado, capaces de grabar video, incluso con función de almacenamiento interno o externo, para uso doméstico o profesional, con lente objetivo intercambiable o no, excluidas las cámaras cinematográficas.\n",
            "   🎯 Resultado: **Código NCM:** 8525.89.29.00\n",
            "**Descripción:** Las demás cámaras digitales y videocámaras\n",
            "**TEA (%):** 20\n",
            "**Régimen:** BK\n",
            "**Observaciones:** N/A\n",
            "\n",
            "**Código NCM:** 9006.5 - Las demás cámaras fotográfica...\n",
            "--------------------------------------------------\n",
            "\n",
            "🔹 TÉCNICA 2:\n",
            "   📝 Descripción: Cámaras fotográficas digitales, comprendidas entre las cámaras de imagen fija, que emplean un sensor electrónico (CCD o CMOS) para la captación de imágenes, con capacidad de visualización inmediata en pantalla LCD o OLED, provistas o no de flash incorporado, incluso aquellas con funciones adicionales de grabación de audio y/o video digital, y con interfaz de comunicación para transferencia de datos a dispositivos externos.\n",
            "   🎯 Resultado: **Código NCM:** 8525.89.2\n",
            "**Descripción:** Cámaras digitales y videocámaras\n",
            "**TEA (%):** 20\n",
            "**Régimen:** BK\n",
            "**Observaciones:**\n",
            "\n",
            "**Código NCM:** 8525.89.29.00\n",
            "**Descripción:** Las demás\n",
            "**TEA (%):** 20...\n",
            "--------------------------------------------------\n",
            "\n",
            "🔹 TÉCNICA 3:\n",
            "   📝 Descripción: Artículos electrónicos de consumo, constituidos por aparatos de registro de imágenes fijas, que incorporan un sistema óptico y un sensor de imagen digital, con capacidad de digitalización y almacenamiento de las imágenes capturadas, presentados en un cuerpo único o en forma de kit, incluyendo o no accesorios tales como baterías, cargadores, cables de conexión y software, destinados al registro y reproducción de imágenes fotográficas.\n",
            "   🎯 Resultado: No puedo proporcionar la clasificación arancelaria para el producto descrito. La información proporcionada en los resultados de búsqueda no contiene datos sobre aparatos de registro de imágenes fijas ...\n",
            "--------------------------------------------------\n"
          ]
        }
      ],
      "source": [
        "# Ejemplo 2: Consulta completa con descripciones técnicas mejoradas\n",
        "producto_test_mejorado = \"cámara digital\"\n",
        "\n",
        "print(\"🚀 CONSULTA CON DESCRIPCIONES TÉCNICAS MEJORADAS\")\n",
        "print(\"=\" * 70)\n",
        "\n",
        "# Realizar consulta con descripciones técnicas automáticas\n",
        "resultados_mejorados = consultar_con_descripciones_mejoradas(\n",
        "    producto_test_mejorado, \n",
        "    modelo=\"gemini\", \n",
        "    usar_descripciones_tecnicas=True\n",
        ")\n",
        "\n",
        "print(\"\\n📊 RESULTADOS COMPARATIVOS:\")\n",
        "print(\"=\" * 70)\n",
        "\n",
        "for etiqueta, datos in resultados_mejorados.items():\n",
        "    print(f\"\\n🔹 {etiqueta.upper()}:\")\n",
        "    print(f\"   📝 Descripción: {datos['descripcion_usada']}\")\n",
        "    print(f\"   🎯 Resultado: {datos['resultado'][:200]}...\")\n",
        "    print(\"-\" * 50)"
      ]
    },
    {
      "cell_type": "code",
      "execution_count": null,
      "metadata": {},
      "outputs": [
        {
          "name": "stdout",
          "output_type": "stream",
          "text": [
            "🆚 COMPARACIÓN: CONSULTA SIMPLE vs. CONSULTA MEJORADA\n",
            "================================================================================\n",
            "1️⃣ CONSULTA SIMPLE (método tradicional):\n",
            "--------------------------------------------------\n",
            "📱 Producto: Smartphone con pantalla táctil\n",
            "🎯 Resultado: No puedo proporcionar la clasificación arancelaria para un smartphone con pantalla táctil. Los documentos proporcionados no contienen información sobre ese producto.\n",
            "...\n",
            "\n",
            "================================================================================\n",
            "2️⃣ CONSULTA MEJORADA (con descripciones técnicas):\n",
            "--------------------------------------------------\n",
            "🔍 Consultando arancel para: 'Smartphone con pantalla táctil'\n",
            "🤖 Modelo seleccionado: gemini\n",
            "🔄 Generando descripciones técnicas alternativas...\n",
            "📱 Producto: Smartphone con pantalla táctil\n",
            "🎯 Resultado: No puedo proporcionar la clasificación arancelaria para un smartphone con pantalla táctil. Los documentos proporcionados no contienen información sobre ese producto.\n",
            "...\n",
            "\n",
            "================================================================================\n",
            "2️⃣ CONSULTA MEJORADA (con descripciones técnicas):\n",
            "--------------------------------------------------\n",
            "🔍 Consultando arancel para: 'Smartphone con pantalla táctil'\n",
            "🤖 Modelo seleccionado: gemini\n",
            "🔄 Generando descripciones técnicas alternativas...\n",
            "📝 Descripciones técnicas generadas:\n",
            "   1. Aparatos de telefonía para redes celulares u otras redes inalámbricas, concebidos para la comunicación utilizando tecnología digital, con pantalla táctil integrada y funcionalidades de procesamiento de datos que permiten el acceso a internet y la ejecución de aplicaciones, provistos de batería recargable y presentados individualmente.\n",
            "   2. Unidades de entrada o de salida, incluso con elementos de memoria en la misma envoltura, combinadas, con pantalla táctil capacitiva proyectada, utilizadas como dispositivos de comunicación inalámbrica bidireccional, capaces de grabar y reproducir sonido e imágenes, y que incorporan funciones de cámara fotográfica digital y receptor de señales de radio.\n",
            "   3. Terminales móviles digitales, multifuncionales, que integran un microprocesador, memoria, módem y pantalla táctil, diseñados principalmente para la transmisión de voz y datos a través de redes de telecomunicaciones, dotados de interfaces para conexión a redes inalámbricas (WLAN) y/o Bluetooth, comprendiendo funciones de agenda electrónica, correo electrónico y navegación web.\n",
            "\n",
            "🔍 Consultando con descripción Original...\n",
            "📝 Descripciones técnicas generadas:\n",
            "   1. Aparatos de telefonía para redes celulares u otras redes inalámbricas, concebidos para la comunicación utilizando tecnología digital, con pantalla táctil integrada y funcionalidades de procesamiento de datos que permiten el acceso a internet y la ejecución de aplicaciones, provistos de batería recargable y presentados individualmente.\n",
            "   2. Unidades de entrada o de salida, incluso con elementos de memoria en la misma envoltura, combinadas, con pantalla táctil capacitiva proyectada, utilizadas como dispositivos de comunicación inalámbrica bidireccional, capaces de grabar y reproducir sonido e imágenes, y que incorporan funciones de cámara fotográfica digital y receptor de señales de radio.\n",
            "   3. Terminales móviles digitales, multifuncionales, que integran un microprocesador, memoria, módem y pantalla táctil, diseñados principalmente para la transmisión de voz y datos a través de redes de telecomunicaciones, dotados de interfaces para conexión a redes inalámbricas (WLAN) y/o Bluetooth, comprendiendo funciones de agenda electrónica, correo electrónico y navegación web.\n",
            "\n",
            "🔍 Consultando con descripción Original...\n",
            "🔍 Consultando con descripción Técnica 1...\n",
            "🔍 Consultando con descripción Técnica 1...\n",
            "🔍 Consultando con descripción Técnica 2...\n",
            "🔍 Consultando con descripción Técnica 2...\n",
            "🔍 Consultando con descripción Técnica 3...\n",
            "🔍 Consultando con descripción Técnica 3...\n",
            "\n",
            "📈 ANÁLISIS DE MEJORAS:\n",
            "✅ Mayor variedad de terminología técnica\n",
            "✅ Mejor cobertura de aspectos del producto\n",
            "✅ Mayor precisión en la clasificación arancelaria\n",
            "✅ Reduce ambigüedad en descripciones coloquiales\n",
            "\n",
            "================================================================================\n",
            "🎯 CONCLUSIÓN: Las descripciones técnicas automáticas mejoran significativamente\n",
            "   la precisión del sistema RAG para clasificación arancelaria.\n",
            "\n",
            "📈 ANÁLISIS DE MEJORAS:\n",
            "✅ Mayor variedad de terminología técnica\n",
            "✅ Mejor cobertura de aspectos del producto\n",
            "✅ Mayor precisión en la clasificación arancelaria\n",
            "✅ Reduce ambigüedad en descripciones coloquiales\n",
            "\n",
            "================================================================================\n",
            "🎯 CONCLUSIÓN: Las descripciones técnicas automáticas mejoran significativamente\n",
            "   la precisión del sistema RAG para clasificación arancelaria.\n"
          ]
        }
      ],
      "source": [
        "# Ejemplo 3: Comparación directa - Consulta simple vs. Consulta con descripciones técnicas\n",
        "producto_comparacion = \"Smartphone con pantalla táctil\"\n",
        "\n",
        "print(\"🆚 COMPARACIÓN: CONSULTA SIMPLE vs. CONSULTA MEJORADA\")\n",
        "print(\"=\" * 80)\n",
        "\n",
        "# Consulta simple (tradicional)\n",
        "print(\"1️⃣ CONSULTA SIMPLE (método tradicional):\")\n",
        "print(\"-\" * 50)\n",
        "try:\n",
        "    resultado_simple = consultar_arancel_uruguay(producto_comparacion)\n",
        "    print(f\"📱 Producto: {producto_comparacion}\")\n",
        "    print(f\"🎯 Resultado: {resultado_simple.text[:300]}...\")\n",
        "except Exception as e:\n",
        "    print(f\"❌ Error en consulta simple: {e}\")\n",
        "\n",
        "print(\"\\n\" + \"=\" * 80)\n",
        "\n",
        "# Consulta mejorada con descripciones técnicas\n",
        "print(\"2️⃣ CONSULTA MEJORADA (con descripciones técnicas):\")\n",
        "print(\"-\" * 50)\n",
        "try:\n",
        "    resultados_tecnicos = consultar_con_descripciones_mejoradas(\n",
        "        producto_comparacion, \n",
        "        modelo=\"gemini\", \n",
        "        usar_descripciones_tecnicas=True\n",
        "    )\n",
        "\n",
        "    for etiqueta, datos in resultados_tecnicos.items():\n",
        "        print(f\"\\n🔹 {etiqueta.upper()}:\")\n",
        "        print(f\"   📝 Descripción: {datos['descripcion_usada']}\")\n",
        "        print(f\"   🎯 Resultado: {datos['resultado'][:200]}...\")\n",
        "        print(\"-\" * 50)\n",
        "    \n",
        "    \n",
        "except Exception as e:\n",
        "    print(f\"❌ Error en consulta mejorada: {e}\")\n"
      ]
    },
    {
      "cell_type": "markdown",
      "metadata": {},
      "source": [
        "### 🎯 Función Utilitaria Final - Flujo Completo de Clasificación\n",
        "\n",
        "Función todo-en-uno que combina generación de descripciones técnicas, consulta RAG mejorada, y validación de códigos NCM."
      ]
    },
    {
      "cell_type": "code",
      "execution_count": null,
      "metadata": {},
      "outputs": [],
      "source": [
        "def clasificar_producto_completo(descripcion_producto, modelo_preferido=\"gemini\", validar_codigo=True):\n",
        "    \"\"\"\n",
        "    Función completa que realiza todo el flujo de clasificación arancelaria:\n",
        "    1. Genera descripciones técnicas alternativas\n",
        "    2. Consulta el RAG con múltiples descripciones\n",
        "    3. Extrae y valida códigos NCM encontrados\n",
        "    4. Proporciona recomendaciones finales\n",
        "    \n",
        "    Args:\n",
        "        descripcion_producto (str): Descripción del producto a clasificar\n",
        "        modelo_preferido (str): Modelo preferido (\"gemini\" o \"llama\")\n",
        "        validar_codigo (bool): Si validar códigos NCM encontrados\n",
        "        \n",
        "    Returns:\n",
        "        dict: Reporte completo de clasificación\n",
        "    \"\"\"\n",
        "    \n",
        "    print(\"🎯 SISTEMA COMPLETO DE CLASIFICACIÓN ARANCELARIA\")\n",
        "    print(\"=\" * 80)\n",
        "    print(f\"📦 Producto a clasificar: '{descripcion_producto}'\")\n",
        "    print(f\"🤖 Modelo preferido: {modelo_preferido}\")\n",
        "    print(\"=\" * 80)\n",
        "    \n",
        "    reporte = {\n",
        "        \"producto_original\": descripcion_producto,\n",
        "        \"modelo_usado\": modelo_preferido,\n",
        "        \"descripciones_tecnicas\": [],\n",
        "        \"resultados_consultas\": {},\n",
        "        \"codigos_encontrados\": [],\n",
        "        \"validaciones\": {},\n",
        "        \"recomendacion_final\": \"\"\n",
        "    }\n",
        "    \n",
        "    try:\n",
        "        # Paso 1: Generar descripciones técnicas\n",
        "        print(\"\\n🔄 PASO 1: Generando descripciones técnicas...\")\n",
        "        descripciones_tecnicas = generar_descripciones_arancel(\n",
        "            descripcion_producto, modelo_preferido, 3\n",
        "        )\n",
        "        reporte[\"descripciones_tecnicas\"] = descripciones_tecnicas\n",
        "        \n",
        "        print(\"✅ Descripciones técnicas generadas:\")\n",
        "        for i, desc in enumerate(descripciones_tecnicas, 1):\n",
        "            print(f\"   {i}. {desc[:80]}...\")\n",
        "        \n",
        "        # Paso 2: Realizar consultas mejoradas\n",
        "        print(\"\\n🔍 PASO 2: Consultando arancel con descripciones mejoradas...\")\n",
        "        resultados = consultar_con_descripciones_mejoradas(\n",
        "            descripcion_producto, modelo_preferido, True\n",
        "        )\n",
        "        reporte[\"resultados_consultas\"] = resultados\n",
        "        \n",
        "        # Paso 3: Extraer códigos NCM de las respuestas\n",
        "        print(\"\\n🔢 PASO 3: Extrayendo códigos NCM...\")\n",
        "        import re\n",
        "        codigos_encontrados = set()\n",
        "        \n",
        "        for etiqueta, datos in resultados.items():\n",
        "            texto_resultado = datos[\"resultado\"]\n",
        "            # Buscar patrones de códigos NCM (8 dígitos, a veces con puntos)\n",
        "            patrones_ncm = re.findall(r'\\b\\d{4}\\.?\\d{2}\\.?\\d{2}\\b', texto_resultado)\n",
        "            codigos_encontrados.update(patrones_ncm)\n",
        "        \n",
        "        reporte[\"codigos_encontrados\"] = list(codigos_encontrados)\n",
        "        \n",
        "        if codigos_encontrados:\n",
        "            print(f\"✅ Códigos NCM encontrados: {', '.join(codigos_encontrados)}\")\n",
        "        else:\n",
        "            print(\"⚠️  No se encontraron códigos NCM específicos en las respuestas\")\n",
        "        \n",
        "        # Paso 4: Validar códigos si está habilitado\n",
        "        if validar_codigo and codigos_encontrados:\n",
        "            print(\"\\n✔️  PASO 4: Validando códigos NCM...\")\n",
        "            for codigo in list(codigos_encontrados)[:3]:  # Validar máximo 3 códigos\n",
        "                try:\n",
        "                    resultado_validacion = validar_codigo_ncm(codigo, modelo_preferido)\n",
        "                    reporte[\"validaciones\"][codigo] = resultado_validacion.text if hasattr(resultado_validacion, 'text') else str(resultado_validacion)\n",
        "                    print(f\"   ✅ Código {codigo}: Validado\")\n",
        "                except Exception as e:\n",
        "                    print(f\"   ❌ Error validando {codigo}: {e}\")\n",
        "                    reporte[\"validaciones\"][codigo] = f\"Error: {e}\"\n",
        "        \n",
        "        # Paso 5: Generar recomendación final\n",
        "        print(\"\\n📋 PASO 5: Generando recomendación final...\")\n",
        "        \n",
        "        if codigos_encontrados:\n",
        "            recomendacion = f\"\"\"\n",
        "            RECOMENDACIÓN DE CLASIFICACIÓN:\n",
        "            \n",
        "            📦 Producto: {descripcion_producto}\n",
        "            🔢 Códigos NCM sugeridos: {', '.join(list(codigos_encontrados)[:3])}\n",
        "            🤖 Análisis realizado con: {modelo_preferido}\n",
        "            ✅ Descripciones técnicas generadas: {len(descripciones_tecnicas)}\n",
        "            \n",
        "            Se recomienda verificar los códigos sugeridos con el arancel oficial \n",
        "            y considerar las características específicas del producto.\n",
        "            \"\"\"\n",
        "        else:\n",
        "            recomendacion = f\"\"\"\n",
        "            ANÁLISIS COMPLETADO:\n",
        "            \n",
        "            📦 Producto: {descripcion_producto}\n",
        "            ⚠️  No se identificaron códigos NCM específicos\n",
        "            🤖 Análisis realizado con: {modelo_preferido}\n",
        "            ✅ Descripciones técnicas generadas: {len(descripciones_tecnicas)}\n",
        "            \n",
        "            Se recomienda revisar manualmente las consultas generadas \n",
        "            o proporcionar una descripción más específica del producto.\n",
        "            \"\"\"\n",
        "        \n",
        "        reporte[\"recomendacion_final\"] = recomendacion\n",
        "        print(recomendacion)\n",
        "        \n",
        "        print(\"\\n\" + \"=\" * 80)\n",
        "        print(\"🎉 CLASIFICACIÓN COMPLETA FINALIZADA\")\n",
        "        print(\"=\" * 80)\n",
        "        \n",
        "        return reporte\n",
        "        \n",
        "    except Exception as e:\n",
        "        error_msg = f\"❌ Error en el proceso de clasificación: {e}\"\n",
        "        print(error_msg)\n",
        "        reporte[\"error\"] = error_msg\n",
        "        return reporte\n",
        "\n",
        "\n",
        "# Función de demostración con productos de ejemplo\n",
        "def demo_clasificacion_completa():\n",
        "    \"\"\"Demuestra el sistema completo con varios productos de ejemplo\"\"\"\n",
        "    \n",
        "    productos_demo = [\n",
        "        \"tablet con pantalla táctil\",\n",
        "        \"zapatos de cuero para hombre\", \n",
        "        \"aceite de oliva extra virgen\"\n",
        "    ]\n",
        "    \n",
        "    print(\"🚀 DEMOSTRACIÓN DEL SISTEMA COMPLETO DE CLASIFICACIÓN\")\n",
        "    print(\"=\" * 90)\n",
        "    \n",
        "    for i, producto in enumerate(productos_demo, 1):\n",
        "        print(f\"\\n🎯 DEMO {i}/3:\")\n",
        "        print(\"-\" * 60)\n",
        "        \n",
        "        reporte = clasificar_producto_completo(producto, \"gemini\", True)\n",
        "        \n",
        "        print(f\"\\n📊 RESUMEN DEMO {i}:\")\n",
        "        print(f\"   ✅ Descripciones técnicas: {len(reporte.get('descripciones_tecnicas', []))}\")\n",
        "        print(f\"   ✅ Consultas realizadas: {len(reporte.get('resultados_consultas', {}))}\")\n",
        "        print(f\"   ✅ Códigos encontrados: {len(reporte.get('codigos_encontrados', []))}\")\n",
        "        \n",
        "        if i < len(productos_demo):\n",
        "            print(\"\\n\" + \"⏭️ \" * 20)\n",
        "    \n",
        "    print(f\"\\n🎉 DEMOSTRACIÓN COMPLETA FINALIZADA\")\n",
        "    print(\"=\" * 90)"
      ]
    },
    {
      "cell_type": "markdown",
      "metadata": {},
      "source": [
        "## 📚 Guía de Uso - Nuevas Funcionalidades\n",
        "\n",
        "### 🆕 Funciones Añadidas para Mejorar la Precisión del RAG\n",
        "\n",
        "**1. `generar_descripciones_arancel(descripcion_producto, modelo, num_alternativas)`**\n",
        "- Convierte descripciones coloquiales en lenguaje técnico del arancel\n",
        "- Genera múltiples variaciones terminológicas\n",
        "- Mejora significativamente la precisión del RAG\n",
        "\n",
        "**2. `consultar_con_descripciones_mejoradas(descripcion_producto, modelo, usar_descripciones_tecnicas)`**\n",
        "- Realiza consultas usando tanto la descripción original como las técnicas generadas\n",
        "- Compara resultados entre diferentes enfoques\n",
        "- Proporciona mayor cobertura de clasificación\n",
        "\n",
        "**3. `clasificar_producto_completo(descripcion_producto, modelo_preferido, validar_codigo)`**\n",
        "- Flujo completo end-to-end de clasificación arancelaria\n",
        "- Integra generación de descripciones, consulta RAG, extracción y validación de códigos NCM\n",
        "- Genera reporte completo con recomendaciones\n",
        "\n",
        "### 🎯 Ejemplos de Uso Rápido\n",
        "\n",
        "```python\n",
        "# Uso básico - generar descripciones técnicas\n",
        "descripciones = generar_descripciones_arancel(\"smartphone\", \"gemini\", 3)\n",
        "\n",
        "# Consulta mejorada con descripciones técnicas\n",
        "resultados = consultar_con_descripciones_mejoradas(\"cámara digital\", \"gemini\", True)\n",
        "\n",
        "# Flujo completo de clasificación\n",
        "reporte = clasificar_producto_completo(\"zapatillas deportivas\", \"gemini\", True)\n",
        "\n",
        "# Demostración con múltiples productos\n",
        "demo_clasificacion_completa()\n",
        "```\n",
        "\n",
        "### 🚀 Beneficios de las Mejoras\n",
        "\n",
        "- **Mayor Precisión**: Las descripciones técnicas mejoran la coincidencia con el lenguaje del arancel\n",
        "- **Mejor Cobertura**: Múltiples consultas capturan diferentes aspectos del producto\n",
        "- **Automatización**: Proceso completo automatizado de principio a fin\n",
        "- **Flexibilidad**: Compatible con Gemini y Llama3/modelos alternativos\n",
        "- **Validación**: Incluye verificación automática de códigos NCM encontrados\n",
        "\n",
        "¡El sistema está listo para uso en producción con clasificación arancelaria mejorada! 🎉"
      ]
    },
    {
      "cell_type": "code",
      "execution_count": 32,
      "metadata": {
        "id": "f6e67ee7968c"
      },
      "outputs": [],
      "source": [
        "from vertexai import generative_models\n",
        "\n",
        "# Load tool into Llama model\n",
        "rag_retrieval_tool = generative_models.Tool.from_retrieval(\n",
        "    retrieval=rag.Retrieval(\n",
        "        source=rag.VertexRagStore(\n",
        "            rag_resources=[rag.RagResource(rag_corpus=rag_corpus.name)],\n",
        "            rag_retrieval_config=rag.RagRetrievalConfig(\n",
        "                top_k=10,  # Optional\n",
        "                filter=rag.Filter(\n",
        "                    vector_distance_threshold=0.5,  # Optional\n",
        "                ),\n",
        "            ),\n",
        "        ),\n",
        "    )\n",
        ")\n",
        "\n",
        "llama_model = generative_models.GenerativeModel(\n",
        "    # your self-deployed endpoint for Llama3\n",
        "    \"projects/{project}/locations/{location}/endpoints/{endpoint_resource_id}\",\n",
        "    tools=[rag_retrieval_tool],\n",
        ")"
      ]
    },
    {
      "cell_type": "code",
      "execution_count": 33,
      "metadata": {
        "colab": {
          "base_uri": "https://localhost:8080/",
          "height": 373
        },
        "id": "c6d710b6dece",
        "outputId": "3ed93d64-81c7-4296-c296-64d05d96770f"
      },
      "outputs": [
        {
          "ename": "ValueError",
          "evalue": "Unsupported region for Vertex AI, select from frozenset({'europe-central2', 'us-central1', 'us-east1', 'southamerica-west1', 'us-south1', 'europe-west2', 'europe-west8', 'africa-south1', 'southamerica-east1', 'us-east7', 'us-east5', 'asia-south1', 'asia-south2', 'europe-west12', 'australia-southeast2', 'us-west3', 'me-central2', 'australia-southeast1', 'asia-northeast1', 'us-west4', 'northamerica-northeast2', 'asia-east1', 'me-west1', 'europe-north1', 'asia-east2', 'asia-northeast3', 'northamerica-northeast1', 'asia-southeast2', 'me-central1', 'us-west2', 'europe-west4', 'europe-west1', 'us-west1', 'asia-northeast2', 'asia-southeast1', 'europe-west6', 'europe-west9', 'europe-southwest1', 'us-east4', 'europe-west3', 'global'})",
          "output_type": "error",
          "traceback": [
            "\u001b[0;31m---------------------------------------------------------------------------\u001b[0m",
            "\u001b[0;31mValueError\u001b[0m                                Traceback (most recent call last)",
            "\u001b[0;32m/tmp/ipython-input-524673977.py\u001b[0m in \u001b[0;36m<cell line: 0>\u001b[0;34m()\u001b[0m\n\u001b[0;32m----> 1\u001b[0;31m \u001b[0mresponse\u001b[0m \u001b[0;34m=\u001b[0m \u001b[0mllama_model\u001b[0m\u001b[0;34m.\u001b[0m\u001b[0mgenerate_content\u001b[0m\u001b[0;34m(\u001b[0m\u001b[0;34m\"What is RAG?\"\u001b[0m\u001b[0;34m)\u001b[0m\u001b[0;34m\u001b[0m\u001b[0;34m\u001b[0m\u001b[0m\n\u001b[0m\u001b[1;32m      2\u001b[0m \u001b[0;34m\u001b[0m\u001b[0m\n\u001b[1;32m      3\u001b[0m \u001b[0mdisplay\u001b[0m\u001b[0;34m(\u001b[0m\u001b[0mMarkdown\u001b[0m\u001b[0;34m(\u001b[0m\u001b[0mresponse\u001b[0m\u001b[0;34m.\u001b[0m\u001b[0mtext\u001b[0m\u001b[0;34m)\u001b[0m\u001b[0;34m)\u001b[0m\u001b[0;34m\u001b[0m\u001b[0;34m\u001b[0m\u001b[0m\n",
            "\u001b[0;32m/usr/local/lib/python3.11/dist-packages/vertexai/generative_models/_generative_models.py\u001b[0m in \u001b[0;36mgenerate_content\u001b[0;34m(self, contents, generation_config, safety_settings, tools, tool_config, labels, stream)\u001b[0m\n\u001b[1;32m    710\u001b[0m             )\n\u001b[1;32m    711\u001b[0m         \u001b[0;32melse\u001b[0m\u001b[0;34m:\u001b[0m\u001b[0;34m\u001b[0m\u001b[0;34m\u001b[0m\u001b[0m\n\u001b[0;32m--> 712\u001b[0;31m             return self._generate_content(\n\u001b[0m\u001b[1;32m    713\u001b[0m                 \u001b[0mcontents\u001b[0m\u001b[0;34m=\u001b[0m\u001b[0mcontents\u001b[0m\u001b[0;34m,\u001b[0m\u001b[0;34m\u001b[0m\u001b[0;34m\u001b[0m\u001b[0m\n\u001b[1;32m    714\u001b[0m                 \u001b[0mgeneration_config\u001b[0m\u001b[0;34m=\u001b[0m\u001b[0mgeneration_config\u001b[0m\u001b[0;34m,\u001b[0m\u001b[0;34m\u001b[0m\u001b[0;34m\u001b[0m\u001b[0m\n",
            "\u001b[0;32m/usr/local/lib/python3.11/dist-packages/vertexai/generative_models/_generative_models.py\u001b[0m in \u001b[0;36m_generate_content\u001b[0;34m(self, contents, generation_config, safety_settings, tools, tool_config, labels)\u001b[0m\n\u001b[1;32m    835\u001b[0m             \u001b[0mlabels\u001b[0m\u001b[0;34m=\u001b[0m\u001b[0mlabels\u001b[0m\u001b[0;34m,\u001b[0m\u001b[0;34m\u001b[0m\u001b[0;34m\u001b[0m\u001b[0m\n\u001b[1;32m    836\u001b[0m         )\n\u001b[0;32m--> 837\u001b[0;31m         \u001b[0mgapic_response\u001b[0m \u001b[0;34m=\u001b[0m \u001b[0mself\u001b[0m\u001b[0;34m.\u001b[0m\u001b[0m_prediction_client\u001b[0m\u001b[0;34m.\u001b[0m\u001b[0mgenerate_content\u001b[0m\u001b[0;34m(\u001b[0m\u001b[0mrequest\u001b[0m\u001b[0;34m=\u001b[0m\u001b[0mrequest\u001b[0m\u001b[0;34m)\u001b[0m\u001b[0;34m\u001b[0m\u001b[0;34m\u001b[0m\u001b[0m\n\u001b[0m\u001b[1;32m    838\u001b[0m         \u001b[0;32mreturn\u001b[0m \u001b[0mself\u001b[0m\u001b[0;34m.\u001b[0m\u001b[0m_parse_response\u001b[0m\u001b[0;34m(\u001b[0m\u001b[0mgapic_response\u001b[0m\u001b[0;34m)\u001b[0m\u001b[0;34m\u001b[0m\u001b[0;34m\u001b[0m\u001b[0m\n\u001b[1;32m    839\u001b[0m \u001b[0;34m\u001b[0m\u001b[0m\n",
            "\u001b[0;32m/usr/lib/python3.11/functools.py\u001b[0m in \u001b[0;36m__get__\u001b[0;34m(self, instance, owner)\u001b[0m\n\u001b[1;32m    999\u001b[0m                 \u001b[0mval\u001b[0m \u001b[0;34m=\u001b[0m \u001b[0mcache\u001b[0m\u001b[0;34m.\u001b[0m\u001b[0mget\u001b[0m\u001b[0;34m(\u001b[0m\u001b[0mself\u001b[0m\u001b[0;34m.\u001b[0m\u001b[0mattrname\u001b[0m\u001b[0;34m,\u001b[0m \u001b[0m_NOT_FOUND\u001b[0m\u001b[0;34m)\u001b[0m\u001b[0;34m\u001b[0m\u001b[0;34m\u001b[0m\u001b[0m\n\u001b[1;32m   1000\u001b[0m                 \u001b[0;32mif\u001b[0m \u001b[0mval\u001b[0m \u001b[0;32mis\u001b[0m \u001b[0m_NOT_FOUND\u001b[0m\u001b[0;34m:\u001b[0m\u001b[0;34m\u001b[0m\u001b[0;34m\u001b[0m\u001b[0m\n\u001b[0;32m-> 1001\u001b[0;31m                     \u001b[0mval\u001b[0m \u001b[0;34m=\u001b[0m \u001b[0mself\u001b[0m\u001b[0;34m.\u001b[0m\u001b[0mfunc\u001b[0m\u001b[0;34m(\u001b[0m\u001b[0minstance\u001b[0m\u001b[0;34m)\u001b[0m\u001b[0;34m\u001b[0m\u001b[0;34m\u001b[0m\u001b[0m\n\u001b[0m\u001b[1;32m   1002\u001b[0m                     \u001b[0;32mtry\u001b[0m\u001b[0;34m:\u001b[0m\u001b[0;34m\u001b[0m\u001b[0;34m\u001b[0m\u001b[0m\n\u001b[1;32m   1003\u001b[0m                         \u001b[0mcache\u001b[0m\u001b[0;34m[\u001b[0m\u001b[0mself\u001b[0m\u001b[0;34m.\u001b[0m\u001b[0mattrname\u001b[0m\u001b[0;34m]\u001b[0m \u001b[0;34m=\u001b[0m \u001b[0mval\u001b[0m\u001b[0;34m\u001b[0m\u001b[0;34m\u001b[0m\u001b[0m\n",
            "\u001b[0;32m/usr/local/lib/python3.11/dist-packages/vertexai/generative_models/_generative_models.py\u001b[0m in \u001b[0;36m_prediction_client\u001b[0;34m(self)\u001b[0m\n\u001b[1;32m   3423\u001b[0m                 \u001b[0;34m\"from vertexai.preview import generative_models\"\u001b[0m\u001b[0;34m\u001b[0m\u001b[0;34m\u001b[0m\u001b[0m\n\u001b[1;32m   3424\u001b[0m             )\n\u001b[0;32m-> 3425\u001b[0;31m         return aiplatform_initializer.global_config.create_client(\n\u001b[0m\u001b[1;32m   3426\u001b[0m             \u001b[0mclient_class\u001b[0m\u001b[0;34m=\u001b[0m\u001b[0mprediction_service_v1\u001b[0m\u001b[0;34m.\u001b[0m\u001b[0mPredictionServiceClient\u001b[0m\u001b[0;34m,\u001b[0m\u001b[0;34m\u001b[0m\u001b[0;34m\u001b[0m\u001b[0m\n\u001b[1;32m   3427\u001b[0m             \u001b[0mlocation_override\u001b[0m\u001b[0;34m=\u001b[0m\u001b[0mself\u001b[0m\u001b[0;34m.\u001b[0m\u001b[0m_location\u001b[0m \u001b[0;32mif\u001b[0m \u001b[0;32mnot\u001b[0m \u001b[0mapi_key\u001b[0m \u001b[0;32melse\u001b[0m \u001b[0;32mNone\u001b[0m\u001b[0;34m,\u001b[0m\u001b[0;34m\u001b[0m\u001b[0;34m\u001b[0m\u001b[0m\n",
            "\u001b[0;32m/usr/local/lib/python3.11/dist-packages/google/cloud/aiplatform/initializer.py\u001b[0m in \u001b[0;36mcreate_client\u001b[0;34m(self, client_class, credentials, location_override, prediction_client, api_base_path_override, api_key, api_path_override, appended_user_agent, appended_gapic_version)\u001b[0m\n\u001b[1;32m    602\u001b[0m         kwargs = {\n\u001b[1;32m    603\u001b[0m             \u001b[0;34m\"credentials\"\u001b[0m\u001b[0;34m:\u001b[0m \u001b[0mcredentials\u001b[0m \u001b[0;32mor\u001b[0m \u001b[0mself\u001b[0m\u001b[0;34m.\u001b[0m\u001b[0mcredentials\u001b[0m\u001b[0;34m,\u001b[0m\u001b[0;34m\u001b[0m\u001b[0;34m\u001b[0m\u001b[0m\n\u001b[0;32m--> 604\u001b[0;31m             \"client_options\": self.get_client_options(\n\u001b[0m\u001b[1;32m    605\u001b[0m                 \u001b[0mlocation_override\u001b[0m\u001b[0;34m=\u001b[0m\u001b[0mlocation_override\u001b[0m\u001b[0;34m,\u001b[0m\u001b[0;34m\u001b[0m\u001b[0;34m\u001b[0m\u001b[0m\n\u001b[1;32m    606\u001b[0m                 \u001b[0mprediction_client\u001b[0m\u001b[0;34m=\u001b[0m\u001b[0mprediction_client\u001b[0m\u001b[0;34m,\u001b[0m\u001b[0;34m\u001b[0m\u001b[0;34m\u001b[0m\u001b[0m\n",
            "\u001b[0;32m/usr/local/lib/python3.11/dist-packages/google/cloud/aiplatform/initializer.py\u001b[0m in \u001b[0;36mget_client_options\u001b[0;34m(self, location_override, prediction_client, api_base_path_override, api_key, api_path_override)\u001b[0m\n\u001b[1;32m    492\u001b[0m             \u001b[0mregion\u001b[0m \u001b[0;34m=\u001b[0m \u001b[0mregion\u001b[0m\u001b[0;34m.\u001b[0m\u001b[0mlower\u001b[0m\u001b[0;34m(\u001b[0m\u001b[0;34m)\u001b[0m\u001b[0;34m\u001b[0m\u001b[0;34m\u001b[0m\u001b[0m\n\u001b[1;32m    493\u001b[0m \u001b[0;34m\u001b[0m\u001b[0m\n\u001b[0;32m--> 494\u001b[0;31m             \u001b[0mutils\u001b[0m\u001b[0;34m.\u001b[0m\u001b[0mvalidate_region\u001b[0m\u001b[0;34m(\u001b[0m\u001b[0mregion\u001b[0m\u001b[0;34m)\u001b[0m\u001b[0;34m\u001b[0m\u001b[0;34m\u001b[0m\u001b[0m\n\u001b[0m\u001b[1;32m    495\u001b[0m \u001b[0;34m\u001b[0m\u001b[0m\n\u001b[1;32m    496\u001b[0m             service_base_path = api_base_path_override or (\n",
            "\u001b[0;32m/usr/local/lib/python3.11/dist-packages/google/cloud/aiplatform/utils/__init__.py\u001b[0m in \u001b[0;36mvalidate_region\u001b[0;34m(region)\u001b[0m\n\u001b[1;32m    317\u001b[0m     \u001b[0mregion\u001b[0m \u001b[0;34m=\u001b[0m \u001b[0mregion\u001b[0m\u001b[0;34m.\u001b[0m\u001b[0mlower\u001b[0m\u001b[0;34m(\u001b[0m\u001b[0;34m)\u001b[0m\u001b[0;34m\u001b[0m\u001b[0;34m\u001b[0m\u001b[0m\n\u001b[1;32m    318\u001b[0m     \u001b[0;32mif\u001b[0m \u001b[0mregion\u001b[0m \u001b[0;32mnot\u001b[0m \u001b[0;32min\u001b[0m \u001b[0mconstants\u001b[0m\u001b[0;34m.\u001b[0m\u001b[0mSUPPORTED_REGIONS\u001b[0m\u001b[0;34m:\u001b[0m\u001b[0;34m\u001b[0m\u001b[0;34m\u001b[0m\u001b[0m\n\u001b[0;32m--> 319\u001b[0;31m         raise ValueError(\n\u001b[0m\u001b[1;32m    320\u001b[0m             \u001b[0;34mf\"Unsupported region for Vertex AI, select from {constants.SUPPORTED_REGIONS}\"\u001b[0m\u001b[0;34m\u001b[0m\u001b[0;34m\u001b[0m\u001b[0m\n\u001b[1;32m    321\u001b[0m         )\n",
            "\u001b[0;31mValueError\u001b[0m: Unsupported region for Vertex AI, select from frozenset({'europe-central2', 'us-central1', 'us-east1', 'southamerica-west1', 'us-south1', 'europe-west2', 'europe-west8', 'africa-south1', 'southamerica-east1', 'us-east7', 'us-east5', 'asia-south1', 'asia-south2', 'europe-west12', 'australia-southeast2', 'us-west3', 'me-central2', 'australia-southeast1', 'asia-northeast1', 'us-west4', 'northamerica-northeast2', 'asia-east1', 'me-west1', 'europe-north1', 'asia-east2', 'asia-northeast3', 'northamerica-northeast1', 'asia-southeast2', 'me-central1', 'us-west2', 'europe-west4', 'europe-west1', 'us-west1', 'asia-northeast2', 'asia-southeast1', 'europe-west6', 'europe-west9', 'europe-southwest1', 'us-east4', 'europe-west3', 'global'})"
          ]
        }
      ],
      "source": [
        "response = llama_model.generate_content(\"What is RAG?\")\n",
        "\n",
        "display(Markdown(response.text))"
      ]
    }
  ],
  "metadata": {
    "colab": {
      "include_colab_link": true,
      "name": "intro_rag_engine.ipynb",
      "provenance": [],
      "toc_visible": true
    },
    "kernelspec": {
      "display_name": ".venv",
      "language": "python",
      "name": "python3"
    },
    "language_info": {
      "codemirror_mode": {
        "name": "ipython",
        "version": 3
      },
      "file_extension": ".py",
      "mimetype": "text/x-python",
      "name": "python",
      "nbconvert_exporter": "python",
      "pygments_lexer": "ipython3",
      "version": "3.13.2"
    }
  },
  "nbformat": 4,
  "nbformat_minor": 0
}
